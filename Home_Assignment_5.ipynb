{
  "nbformat": 4,
  "nbformat_minor": 0,
  "metadata": {
    "colab": {
      "name": "Home Assignment 5.ipynb",
      "provenance": [],
      "authorship_tag": "ABX9TyM5tL8rlB9HPyarsV4Vv/5I",
      "include_colab_link": true
    },
    "kernelspec": {
      "name": "python3",
      "display_name": "Python 3"
    }
  },
  "cells": [
    {
      "cell_type": "markdown",
      "metadata": {
        "id": "view-in-github",
        "colab_type": "text"
      },
      "source": [
        "<a href=\"https://colab.research.google.com/github/Andrea227/dailyexercise/blob/master/Home_Assignment_5.ipynb\" target=\"_parent\"><img src=\"https://colab.research.google.com/assets/colab-badge.svg\" alt=\"Open In Colab\"/></a>"
      ]
    },
    {
      "cell_type": "markdown",
      "metadata": {
        "id": "plr8VuSL_5n4",
        "colab_type": "text"
      },
      "source": [
        "# 1. Question 1"
      ]
    },
    {
      "cell_type": "code",
      "metadata": {
        "id": "9Nprlrhi_2vS",
        "colab_type": "code",
        "colab": {}
      },
      "source": [
        "import numpy as np\n",
        "from numpy.linalg import eig"
      ],
      "execution_count": 0,
      "outputs": []
    },
    {
      "cell_type": "code",
      "metadata": {
        "id": "DnmqhozsDeEy",
        "colab_type": "code",
        "colab": {}
      },
      "source": [
        "w, v = eig(np.array([[10, 4], [4, 2]]))"
      ],
      "execution_count": 0,
      "outputs": []
    },
    {
      "cell_type": "code",
      "metadata": {
        "id": "E9gLN3pYD705",
        "colab_type": "code",
        "outputId": "ecd82df2-b444-4a8e-9b0f-91cef6e55a68",
        "colab": {
          "base_uri": "https://localhost:8080/",
          "height": 34
        }
      },
      "source": [
        "print(w)"
      ],
      "execution_count": 0,
      "outputs": [
        {
          "output_type": "stream",
          "text": [
            "[11.65685425  0.34314575]\n"
          ],
          "name": "stdout"
        }
      ]
    },
    {
      "cell_type": "code",
      "metadata": {
        "id": "OQgNyl52D9u0",
        "colab_type": "code",
        "outputId": "08760511-a745-49f2-bc5f-bd7e888b241a",
        "colab": {
          "base_uri": "https://localhost:8080/",
          "height": 51
        }
      },
      "source": [
        "print(v)"
      ],
      "execution_count": 0,
      "outputs": [
        {
          "output_type": "stream",
          "text": [
            "[[ 0.92387953 -0.38268343]\n",
            " [ 0.38268343  0.92387953]]\n"
          ],
          "name": "stdout"
        }
      ]
    },
    {
      "cell_type": "code",
      "metadata": {
        "id": "p3UxYWixf6JF",
        "colab_type": "code",
        "outputId": "01fb782d-cc05-4cff-afa5-78a57e01df40",
        "colab": {
          "base_uri": "https://localhost:8080/",
          "height": 51
        }
      },
      "source": [
        "v1 = np.matrix.transpose(v)\n",
        "print(v1)"
      ],
      "execution_count": 0,
      "outputs": [
        {
          "output_type": "stream",
          "text": [
            "[[ 0.92387953  0.38268343]\n",
            " [-0.38268343  0.92387953]]\n"
          ],
          "name": "stdout"
        }
      ]
    },
    {
      "cell_type": "code",
      "metadata": {
        "id": "JuB4rjFPgM0o",
        "colab_type": "code",
        "outputId": "cb3ca9a4-930a-4cd0-c7ec-d19b80db8c2d",
        "colab": {
          "base_uri": "https://localhost:8080/",
          "height": 51
        }
      },
      "source": [
        "v*v1"
      ],
      "execution_count": 0,
      "outputs": [
        {
          "output_type": "execute_result",
          "data": {
            "text/plain": [
              "array([[ 0.85355339, -0.14644661],\n",
              "       [-0.14644661,  0.85355339]])"
            ]
          },
          "metadata": {
            "tags": []
          },
          "execution_count": 10
        }
      ]
    },
    {
      "cell_type": "code",
      "metadata": {
        "id": "uOPTcvR83fuX",
        "colab_type": "code",
        "outputId": "008eef92-cf81-4ebe-e731-1edb2d5e2085",
        "colab": {
          "base_uri": "https://localhost:8080/",
          "height": 51
        }
      },
      "source": [
        "Sw = np.array([[14/9, 4/9],[4/9, 2/9]])\n",
        "Sw"
      ],
      "execution_count": 0,
      "outputs": [
        {
          "output_type": "execute_result",
          "data": {
            "text/plain": [
              "array([[1.55555556, 0.44444444],\n",
              "       [0.44444444, 0.22222222]])"
            ]
          },
          "metadata": {
            "tags": []
          },
          "execution_count": 14
        }
      ]
    },
    {
      "cell_type": "code",
      "metadata": {
        "id": "eICZWEgK35Ox",
        "colab_type": "code",
        "outputId": "7d82de9e-85d6-47c8-a5aa-cb70d41abd18",
        "colab": {
          "base_uri": "https://localhost:8080/",
          "height": 51
        }
      },
      "source": [
        "Sw2 = np.linalg.inv(Sw)\n",
        "Sw2"
      ],
      "execution_count": 0,
      "outputs": [
        {
          "output_type": "execute_result",
          "data": {
            "text/plain": [
              "array([[ 1.5, -3. ],\n",
              "       [-3. , 10.5]])"
            ]
          },
          "metadata": {
            "tags": []
          },
          "execution_count": 17
        }
      ]
    },
    {
      "cell_type": "markdown",
      "metadata": {
        "id": "KFboCgKx3MaC",
        "colab_type": "text"
      },
      "source": [
        "![微信图片_20200428041638.jpg](https://i.loli.net/2020/04/28/y8F7kvM13QgUbeD.jpg)\n",
        "![微信图片_20200428041645.jpg](https://i.loli.net/2020/04/28/8UI3WHigS2Pqmyn.jpg)"
      ]
    },
    {
      "cell_type": "markdown",
      "metadata": {
        "id": "lUjW1h1_3Vj1",
        "colab_type": "text"
      },
      "source": [
        "E) The reason that LDA will not give the principal component with greatest variation is because the LDA intends to maximize the component axes for class-separation, maximize between the class but minimize in the class, which is supervised; while, PCA tries to find the component that maximize the variance among all the data points."
      ]
    },
    {
      "cell_type": "markdown",
      "metadata": {
        "id": "GZob4dPF4sOR",
        "colab_type": "text"
      },
      "source": [
        "# 2. Question 2"
      ]
    },
    {
      "cell_type": "markdown",
      "metadata": {
        "id": "PIr6q9G7AZlA",
        "colab_type": "text"
      },
      "source": [
        "PCA may not preserve the pairwise distance between every pair of the data points as perfectly as MDS does. Since MDS intends to preserve and reconstruct the relationships of positions in the lower dimesnsions, and if we are using Sammon mapping then it will accurate for the data points which have smaller distances. What Dr.Smart would like to do by using PCA will only preserve large distances of data points since PCA will discard the dimension which has relatively small variance. It will leads to some sort of distorting of the pairwise distances even if the effect may be small.\n",
        "\n",
        "However, this might not be always true. If we are considering using Euclidean space for inputs of MDS, the MDS inputs matrix of distance could be transformed to get the position input matrix that PCA uses. And then we could use the seperation of eigenvalues and pick the top n large corresponding eigenvactors. MDS will be equivalent to PCA under this circumstance since they are both doing eigenvalue seperations."
      ]
    },
    {
      "cell_type": "markdown",
      "metadata": {
        "id": "xnKLITeQLSiw",
        "colab_type": "text"
      },
      "source": [
        "# 3. Question 3"
      ]
    },
    {
      "cell_type": "code",
      "metadata": {
        "id": "ILNa_geyMwMk",
        "colab_type": "code",
        "colab": {}
      },
      "source": [
        "from sklearn.cluster import KMeans\n",
        "X = np.array([[1, 1], [1.5, 2], [3, 4],\n",
        "             [5, 7], [3.5, 5], [4.5, 5], [3.5, 4.5]])\n",
        "km = KMeans(n_clusters=2, init = np.array([[1,1],[5,7]]), verbose=1, max_iter=1)"
      ],
      "execution_count": 0,
      "outputs": []
    },
    {
      "cell_type": "code",
      "metadata": {
        "id": "PNV3UIWzYQMM",
        "colab_type": "code",
        "outputId": "e121de23-62f6-48a7-d228-8e38547168ce",
        "colab": {
          "base_uri": "https://localhost:8080/",
          "height": 156
        }
      },
      "source": [
        "ykm = km.fit(X)"
      ],
      "execution_count": 0,
      "outputs": [
        {
          "output_type": "stream",
          "text": [
            "Initialization complete\n",
            "start iteration\n",
            "done sorting\n",
            "end inner loop\n",
            "Iteration 0, inertia 12.208333333333334\n"
          ],
          "name": "stdout"
        },
        {
          "output_type": "stream",
          "text": [
            "/usr/local/lib/python3.6/dist-packages/ipykernel_launcher.py:1: RuntimeWarning: Explicit initial center position passed: performing only one init in k-means instead of n_init=10\n",
            "  \"\"\"Entry point for launching an IPython kernel.\n"
          ],
          "name": "stderr"
        }
      ]
    },
    {
      "cell_type": "code",
      "metadata": {
        "id": "j1WRCN0dNHYl",
        "colab_type": "code",
        "outputId": "b9716e94-3ebe-4d8d-bce6-1b4357a99c7f",
        "colab": {
          "base_uri": "https://localhost:8080/",
          "height": 51
        }
      },
      "source": [
        "ykm.cluster_centers_"
      ],
      "execution_count": 0,
      "outputs": [
        {
          "output_type": "execute_result",
          "data": {
            "text/plain": [
              "array([[1.83333333, 2.33333333],\n",
              "       [4.125     , 5.375     ]])"
            ]
          },
          "metadata": {
            "tags": []
          },
          "execution_count": 125
        }
      ]
    },
    {
      "cell_type": "code",
      "metadata": {
        "id": "ZHohV8x7avWH",
        "colab_type": "code",
        "outputId": "8579777c-23d6-4640-91cc-fb9215cfcb66",
        "colab": {
          "base_uri": "https://localhost:8080/",
          "height": 34
        }
      },
      "source": [
        "ykm.labels_"
      ],
      "execution_count": 0,
      "outputs": [
        {
          "output_type": "execute_result",
          "data": {
            "text/plain": [
              "array([0, 0, 1, 1, 1, 1, 1], dtype=int32)"
            ]
          },
          "metadata": {
            "tags": []
          },
          "execution_count": 112
        }
      ]
    },
    {
      "cell_type": "code",
      "metadata": {
        "id": "PRmJMSn0NKGA",
        "colab_type": "code",
        "outputId": "ff9fb8bb-0ad2-4af9-d21e-0529081373fe",
        "colab": {
          "base_uri": "https://localhost:8080/",
          "height": 258
        }
      },
      "source": [
        "km = KMeans(n_clusters=2, init = np.array([[1,1],[5,7]]),verbose=1, max_iter=2)\n",
        "ykm = km.fit(X)\n",
        "ykm.cluster_centers_"
      ],
      "execution_count": 0,
      "outputs": [
        {
          "output_type": "stream",
          "text": [
            "Initialization complete\n",
            "start iteration\n",
            "done sorting\n",
            "end inner loop\n",
            "Iteration 0, inertia 12.208333333333334\n",
            "start iteration\n",
            "done sorting\n",
            "end inner loop\n",
            "Iteration 1, inertia 8.525\n"
          ],
          "name": "stdout"
        },
        {
          "output_type": "stream",
          "text": [
            "/usr/local/lib/python3.6/dist-packages/ipykernel_launcher.py:2: RuntimeWarning: Explicit initial center position passed: performing only one init in k-means instead of n_init=10\n",
            "  \n"
          ],
          "name": "stderr"
        },
        {
          "output_type": "execute_result",
          "data": {
            "text/plain": [
              "array([[1.25, 1.5 ],\n",
              "       [3.9 , 5.1 ]])"
            ]
          },
          "metadata": {
            "tags": []
          },
          "execution_count": 113
        }
      ]
    },
    {
      "cell_type": "code",
      "metadata": {
        "id": "aeAuo4_Ja2o2",
        "colab_type": "code",
        "outputId": "d4b80ff6-c7ff-4312-908d-68c82238dbaa",
        "colab": {
          "base_uri": "https://localhost:8080/",
          "height": 34
        }
      },
      "source": [
        "ykm.labels_"
      ],
      "execution_count": 0,
      "outputs": [
        {
          "output_type": "execute_result",
          "data": {
            "text/plain": [
              "array([0, 0, 1, 1, 1, 1, 1], dtype=int32)"
            ]
          },
          "metadata": {
            "tags": []
          },
          "execution_count": 114
        }
      ]
    },
    {
      "cell_type": "code",
      "metadata": {
        "id": "HEE2OgcnajrY",
        "colab_type": "code",
        "outputId": "01de5197-aa05-4bd0-d3c9-9e187abf6efb",
        "colab": {
          "base_uri": "https://localhost:8080/",
          "height": 343
        }
      },
      "source": [
        "km = KMeans(n_clusters=2, init = np.array([[1,1],[5,7]]),verbose=1, max_iter=3)\n",
        "ykm = km.fit(X)\n",
        "ykm.cluster_centers_"
      ],
      "execution_count": 0,
      "outputs": [
        {
          "output_type": "stream",
          "text": [
            "Initialization complete\n",
            "start iteration\n",
            "done sorting\n",
            "end inner loop\n",
            "Iteration 0, inertia 12.208333333333334\n",
            "start iteration\n",
            "done sorting\n",
            "end inner loop\n",
            "Iteration 1, inertia 8.525\n",
            "start iteration\n",
            "done sorting\n",
            "end inner loop\n",
            "Iteration 2, inertia 8.525\n",
            "center shift 0.000000e+00 within tolerance 2.647959e-04\n"
          ],
          "name": "stdout"
        },
        {
          "output_type": "stream",
          "text": [
            "/usr/local/lib/python3.6/dist-packages/ipykernel_launcher.py:2: RuntimeWarning: Explicit initial center position passed: performing only one init in k-means instead of n_init=10\n",
            "  \n"
          ],
          "name": "stderr"
        },
        {
          "output_type": "execute_result",
          "data": {
            "text/plain": [
              "array([[1.25, 1.5 ],\n",
              "       [3.9 , 5.1 ]])"
            ]
          },
          "metadata": {
            "tags": []
          },
          "execution_count": 115
        }
      ]
    },
    {
      "cell_type": "code",
      "metadata": {
        "id": "RKTKGEWwa5PC",
        "colab_type": "code",
        "outputId": "4d3696ba-a7f4-41d0-ea43-5c2aa1ccaca7",
        "colab": {
          "base_uri": "https://localhost:8080/",
          "height": 34
        }
      },
      "source": [
        "ykm.labels_"
      ],
      "execution_count": 0,
      "outputs": [
        {
          "output_type": "execute_result",
          "data": {
            "text/plain": [
              "array([0, 0, 1, 1, 1, 1, 1], dtype=int32)"
            ]
          },
          "metadata": {
            "tags": []
          },
          "execution_count": 116
        }
      ]
    },
    {
      "cell_type": "code",
      "metadata": {
        "id": "JsZvaF5za90U",
        "colab_type": "code",
        "outputId": "dd115ab1-e4d1-404b-af56-c460db7ffb08",
        "colab": {
          "base_uri": "https://localhost:8080/",
          "height": 323
        }
      },
      "source": [
        "km = KMeans(n_clusters=2, init = np.array([[1,1],[5,7]]),verbose=1, max_iter=4)\n",
        "ykm = km.fit(X)\n",
        "ykm.cluster_centers_"
      ],
      "execution_count": 0,
      "outputs": [
        {
          "output_type": "stream",
          "text": [
            "Initialization complete\n",
            "start iteration\n",
            "done sorting\n",
            "end inner loop\n",
            "Iteration 0, inertia 12.208333333333334\n",
            "start iteration\n",
            "done sorting\n",
            "end inner loop\n",
            "Iteration 1, inertia 8.525\n",
            "start iteration\n",
            "done sorting\n",
            "end inner loop\n",
            "Iteration 2, inertia 8.525\n",
            "center shift 0.000000e+00 within tolerance 2.647959e-04\n"
          ],
          "name": "stdout"
        },
        {
          "output_type": "stream",
          "text": [
            "/usr/local/lib/python3.6/dist-packages/ipykernel_launcher.py:2: RuntimeWarning: Explicit initial center position passed: performing only one init in k-means instead of n_init=10\n",
            "  \n"
          ],
          "name": "stderr"
        },
        {
          "output_type": "execute_result",
          "data": {
            "text/plain": [
              "array([[1.25, 1.5 ],\n",
              "       [3.9 , 5.1 ]])"
            ]
          },
          "metadata": {
            "tags": []
          },
          "execution_count": 117
        }
      ]
    },
    {
      "cell_type": "code",
      "metadata": {
        "id": "DihpNS2obBDz",
        "colab_type": "code",
        "outputId": "7bd11d46-a6bd-449d-9fb7-0db09cde5e1a",
        "colab": {
          "base_uri": "https://localhost:8080/",
          "height": 34
        }
      },
      "source": [
        "ykm.labels_"
      ],
      "execution_count": 0,
      "outputs": [
        {
          "output_type": "execute_result",
          "data": {
            "text/plain": [
              "array([0, 0, 1, 1, 1, 1, 1], dtype=int32)"
            ]
          },
          "metadata": {
            "tags": []
          },
          "execution_count": 118
        }
      ]
    },
    {
      "cell_type": "markdown",
      "metadata": {
        "id": "DXjGr8AIdW_D",
        "colab_type": "text"
      },
      "source": [
        "![微信图片_20200428070338.jpg](https://i.loli.net/2020/04/28/z36SgcQ1lyiPG8m.jpg)"
      ]
    },
    {
      "cell_type": "markdown",
      "metadata": {
        "id": "HchUnaw7daWJ",
        "colab_type": "text"
      },
      "source": [
        "# 4. Question 4"
      ]
    },
    {
      "cell_type": "markdown",
      "metadata": {
        "id": "ytbz366ceS1o",
        "colab_type": "text"
      },
      "source": [
        "The input variables are: (i) the time of day they log in, (ii) the length of time they log in for, (iii) the types of programs they run while logged in, (iv) the number of programs they run while logged in.\n",
        "\n",
        "When the intruder logged on, these four feartures will somehow honestly portrait unusal activities. So it is possible that we could have 2 clusters, on e for normal circumstances and the other for unusual intruder activties. Hence the topology preservation could learn when shows intruder coming in.\n",
        "\n",
        "I think since all four variables have different measurements, we may need to normalize the inputs before training. Since activities may vary either normal or unusual in different time of the day, the data should be in a form that activties/time or time/activities.\n",
        "\n",
        "The data size needs to be calculated. We may first tested with different size and make some subtle changes. And then we could decided the number of neurons and the number of weights. Since we may change the data form into two dimensions, it's possible that could build a two-dimension network.\n",
        "\n",
        "It could work to test intruder, however, we may add some other algorithm to help it learn to tell normal noises and real unusual class.\n",
        "\n"
      ]
    },
    {
      "cell_type": "markdown",
      "metadata": {
        "id": "NIzT4b8eLC4v",
        "colab_type": "text"
      },
      "source": [
        "# 5. Question 5"
      ]
    },
    {
      "cell_type": "markdown",
      "metadata": {
        "id": "a1y4j2xlLGbJ",
        "colab_type": "text"
      },
      "source": [
        "I think this system might work. However, due to the complexity and a huge amount of the input data, it might be overfitting and has slow speed if we do not preprocess the data to align their forms to a simpler form like their final outputs, stolen or not stolen.\n",
        "\n",
        "We could simply take the two stolen feautures as a binary option: 1 for stolen, 0 or empty for not been stoled or not transactions on stolen cards. And then we could balance and normalize the data.\n",
        "\n",
        "In this case, I may recommend using K-means data that it could learn how to cluster the data into normal and fraudulent classes."
      ]
    }
  ]
}