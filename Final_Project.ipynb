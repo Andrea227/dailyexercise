{
  "nbformat": 4,
  "nbformat_minor": 0,
  "metadata": {
    "colab": {
      "name": "Final Project.ipynb",
      "provenance": [],
      "collapsed_sections": [
        "gOCUKSnxzqkr"
      ],
      "authorship_tag": "ABX9TyNHTeolGcE+UIroE+IlSLVl",
      "include_colab_link": true
    },
    "kernelspec": {
      "name": "python3",
      "display_name": "Python 3"
    }
  },
  "cells": [
    {
      "cell_type": "markdown",
      "metadata": {
        "id": "view-in-github",
        "colab_type": "text"
      },
      "source": [
        "<a href=\"https://colab.research.google.com/github/Andrea227/dailyexercise/blob/master/Final_Project.ipynb\" target=\"_parent\"><img src=\"https://colab.research.google.com/assets/colab-badge.svg\" alt=\"Open In Colab\"/></a>"
      ]
    },
    {
      "cell_type": "markdown",
      "metadata": {
        "id": "MAyOq9TzopMP",
        "colab_type": "text"
      },
      "source": [
        "# B455 Final Project: COVID-19 New York State New Cases Prediction Project"
      ]
    },
    {
      "cell_type": "markdown",
      "metadata": {
        "id": "Y2zTSOi-0b0j",
        "colab_type": "text"
      },
      "source": [
        "## Executive Summary"
      ]
    },
    {
      "cell_type": "markdown",
      "metadata": {
        "id": "kL_gf0MY0g2d",
        "colab_type": "text"
      },
      "source": [
        "This project is built to predict cumulative case in a paticular of any county of New York state, based on the base information of the county, test information and confirming information in the state.\n",
        "\n",
        "The original data is credit to the official data provided by New York state government, New York city government and personal collected data by Jieying Wu on Kaggle. \n",
        "\n",
        "![photo1.png](https://i.loli.net/2020/05/06/ci5rUMZ8alHnkTv.png)"
      ]
    },
    {
      "cell_type": "markdown",
      "metadata": {
        "id": "L7ycTfH53B_g",
        "colab_type": "text"
      },
      "source": [
        "## 1. Import Data and Form Information Dataset"
      ]
    },
    {
      "cell_type": "markdown",
      "metadata": {
        "id": "EY2GhjdD3P0d",
        "colab_type": "text"
      },
      "source": [
        "Here I am going to use four datasets to combine my own dataset for research. The first dataset contains covid 19 cases reported by all US counties; the second dataset contains base information including population, sex proportions, and median ages of each county in US; the New York statewide testing datasets provides positive and testing information; the last datasets provides hospitalization condition in New York city."
      ]
    },
    {
      "cell_type": "code",
      "metadata": {
        "id": "8dnbFat9xZS4",
        "colab_type": "code",
        "colab": {}
      },
      "source": [
        "import pandas as pd\n",
        "import numpy as np\n",
        "from sklearn.model_selection import train_test_split\n",
        "from sklearn.preprocessing import StandardScaler\n",
        "from sklearn.ensemble import RandomForestRegressor\n",
        "from sklearn.metrics import classification_report, confusion_matrix\n",
        "from sklearn.metrics import accuracy_score\n",
        "from sklearn.model_selection import cross_validate\n",
        "from sklearn.model_selection import cross_val_score\n",
        "from sklearn.metrics import r2_score\n",
        "from sklearn.model_selection import RandomizedSearchCV\n",
        "from sklearn.model_selection import learning_curve, ShuffleSplit\n",
        "import matplotlib.pyplot as plt"
      ],
      "execution_count": 0,
      "outputs": []
    },
    {
      "cell_type": "code",
      "metadata": {
        "id": "9HHKohCuxhB7",
        "colab_type": "code",
        "colab": {}
      },
      "source": [
        "dat1 = pd.read_csv('https://raw.githubusercontent.com/Andrea227/dailyexercise/master/covid_us_county.csv')\n",
        "dat2 = pd.read_csv('https://raw.githubusercontent.com/Andrea227/dailyexercise/master/us_county.csv')\n",
        "dat3 = pd.read_csv('https://raw.githubusercontent.com/Andrea227/dailyexercise/master/New_York_State_Statewide_COVID-19_Testing.csv')\n",
        "dat4 = pd.read_csv('https://raw.githubusercontent.com/Andrea227/dailyexercise/master/data-4SfjZ%20(1).csv')"
      ],
      "execution_count": 0,
      "outputs": []
    },
    {
      "cell_type": "code",
      "metadata": {
        "id": "I50P0-7tNc5O",
        "colab_type": "code",
        "outputId": "a3ad3df9-3f92-467b-9b57-a5589a1ede6f",
        "colab": {
          "base_uri": "https://localhost:8080/",
          "height": 204
        }
      },
      "source": [
        "dat1.tail()"
      ],
      "execution_count": 3,
      "outputs": [
        {
          "output_type": "execute_result",
          "data": {
            "text/html": [
              "<div>\n",
              "<style scoped>\n",
              "    .dataframe tbody tr th:only-of-type {\n",
              "        vertical-align: middle;\n",
              "    }\n",
              "\n",
              "    .dataframe tbody tr th {\n",
              "        vertical-align: top;\n",
              "    }\n",
              "\n",
              "    .dataframe thead th {\n",
              "        text-align: right;\n",
              "    }\n",
              "</style>\n",
              "<table border=\"1\" class=\"dataframe\">\n",
              "  <thead>\n",
              "    <tr style=\"text-align: right;\">\n",
              "      <th></th>\n",
              "      <th>fips</th>\n",
              "      <th>county</th>\n",
              "      <th>state</th>\n",
              "      <th>lat</th>\n",
              "      <th>long</th>\n",
              "      <th>date</th>\n",
              "      <th>cases</th>\n",
              "      <th>state_code</th>\n",
              "      <th>deaths</th>\n",
              "    </tr>\n",
              "  </thead>\n",
              "  <tbody>\n",
              "    <tr>\n",
              "      <th>335878</th>\n",
              "      <td>NaN</td>\n",
              "      <td>Weber-Morgan</td>\n",
              "      <td>Utah</td>\n",
              "      <td>41.27116</td>\n",
              "      <td>-111.914512</td>\n",
              "      <td>43950</td>\n",
              "      <td>151</td>\n",
              "      <td>UT</td>\n",
              "      <td>2</td>\n",
              "    </tr>\n",
              "    <tr>\n",
              "      <th>335879</th>\n",
              "      <td>NaN</td>\n",
              "      <td>Weber-Morgan</td>\n",
              "      <td>Utah</td>\n",
              "      <td>41.27116</td>\n",
              "      <td>-111.914512</td>\n",
              "      <td>43951</td>\n",
              "      <td>158</td>\n",
              "      <td>UT</td>\n",
              "      <td>2</td>\n",
              "    </tr>\n",
              "    <tr>\n",
              "      <th>335880</th>\n",
              "      <td>NaN</td>\n",
              "      <td>Weber-Morgan</td>\n",
              "      <td>Utah</td>\n",
              "      <td>41.27116</td>\n",
              "      <td>-111.914512</td>\n",
              "      <td>43952</td>\n",
              "      <td>162</td>\n",
              "      <td>UT</td>\n",
              "      <td>2</td>\n",
              "    </tr>\n",
              "    <tr>\n",
              "      <th>335881</th>\n",
              "      <td>NaN</td>\n",
              "      <td>Weber-Morgan</td>\n",
              "      <td>Utah</td>\n",
              "      <td>41.27116</td>\n",
              "      <td>-111.914512</td>\n",
              "      <td>43953</td>\n",
              "      <td>166</td>\n",
              "      <td>UT</td>\n",
              "      <td>2</td>\n",
              "    </tr>\n",
              "    <tr>\n",
              "      <th>335882</th>\n",
              "      <td>NaN</td>\n",
              "      <td>Weber-Morgan</td>\n",
              "      <td>Utah</td>\n",
              "      <td>41.27116</td>\n",
              "      <td>-111.914512</td>\n",
              "      <td>43954</td>\n",
              "      <td>167</td>\n",
              "      <td>UT</td>\n",
              "      <td>2</td>\n",
              "    </tr>\n",
              "  </tbody>\n",
              "</table>\n",
              "</div>"
            ],
            "text/plain": [
              "        fips        county state       lat  ...   date  cases  state_code deaths\n",
              "335878   NaN  Weber-Morgan  Utah  41.27116  ...  43950    151          UT      2\n",
              "335879   NaN  Weber-Morgan  Utah  41.27116  ...  43951    158          UT      2\n",
              "335880   NaN  Weber-Morgan  Utah  41.27116  ...  43952    162          UT      2\n",
              "335881   NaN  Weber-Morgan  Utah  41.27116  ...  43953    166          UT      2\n",
              "335882   NaN  Weber-Morgan  Utah  41.27116  ...  43954    167          UT      2\n",
              "\n",
              "[5 rows x 9 columns]"
            ]
          },
          "metadata": {
            "tags": []
          },
          "execution_count": 3
        }
      ]
    },
    {
      "cell_type": "code",
      "metadata": {
        "id": "gh-WurRcNjmM",
        "colab_type": "code",
        "outputId": "b4be667c-eb5f-4fe8-beb8-ea9fc92dcecb",
        "colab": {
          "base_uri": "https://localhost:8080/",
          "height": 204
        }
      },
      "source": [
        "dat2.head()"
      ],
      "execution_count": 4,
      "outputs": [
        {
          "output_type": "execute_result",
          "data": {
            "text/html": [
              "<div>\n",
              "<style scoped>\n",
              "    .dataframe tbody tr th:only-of-type {\n",
              "        vertical-align: middle;\n",
              "    }\n",
              "\n",
              "    .dataframe tbody tr th {\n",
              "        vertical-align: top;\n",
              "    }\n",
              "\n",
              "    .dataframe thead th {\n",
              "        text-align: right;\n",
              "    }\n",
              "</style>\n",
              "<table border=\"1\" class=\"dataframe\">\n",
              "  <thead>\n",
              "    <tr style=\"text-align: right;\">\n",
              "      <th></th>\n",
              "      <th>fips</th>\n",
              "      <th>county</th>\n",
              "      <th>state</th>\n",
              "      <th>state_code</th>\n",
              "      <th>male</th>\n",
              "      <th>female</th>\n",
              "      <th>median_age</th>\n",
              "      <th>population</th>\n",
              "      <th>female_percentage</th>\n",
              "      <th>lat</th>\n",
              "      <th>long</th>\n",
              "    </tr>\n",
              "  </thead>\n",
              "  <tbody>\n",
              "    <tr>\n",
              "      <th>0</th>\n",
              "      <td>1001</td>\n",
              "      <td>Autauga County</td>\n",
              "      <td>Alabama</td>\n",
              "      <td>AL</td>\n",
              "      <td>26874</td>\n",
              "      <td>28326</td>\n",
              "      <td>37.8</td>\n",
              "      <td>55200</td>\n",
              "      <td>51.315217</td>\n",
              "      <td>32.534923</td>\n",
              "      <td>-86.642730</td>\n",
              "    </tr>\n",
              "    <tr>\n",
              "      <th>1</th>\n",
              "      <td>1003</td>\n",
              "      <td>Baldwin County</td>\n",
              "      <td>Alabama</td>\n",
              "      <td>AL</td>\n",
              "      <td>101188</td>\n",
              "      <td>106919</td>\n",
              "      <td>42.8</td>\n",
              "      <td>208107</td>\n",
              "      <td>51.376936</td>\n",
              "      <td>30.727479</td>\n",
              "      <td>-87.722564</td>\n",
              "    </tr>\n",
              "    <tr>\n",
              "      <th>2</th>\n",
              "      <td>1005</td>\n",
              "      <td>Barbour County</td>\n",
              "      <td>Alabama</td>\n",
              "      <td>AL</td>\n",
              "      <td>13697</td>\n",
              "      <td>12085</td>\n",
              "      <td>39.9</td>\n",
              "      <td>25782</td>\n",
              "      <td>46.873788</td>\n",
              "      <td>31.869581</td>\n",
              "      <td>-85.393210</td>\n",
              "    </tr>\n",
              "    <tr>\n",
              "      <th>3</th>\n",
              "      <td>1007</td>\n",
              "      <td>Bibb County</td>\n",
              "      <td>Alabama</td>\n",
              "      <td>AL</td>\n",
              "      <td>12152</td>\n",
              "      <td>10375</td>\n",
              "      <td>39.9</td>\n",
              "      <td>22527</td>\n",
              "      <td>46.055844</td>\n",
              "      <td>32.998628</td>\n",
              "      <td>-87.126475</td>\n",
              "    </tr>\n",
              "    <tr>\n",
              "      <th>4</th>\n",
              "      <td>1009</td>\n",
              "      <td>Blount County</td>\n",
              "      <td>Alabama</td>\n",
              "      <td>AL</td>\n",
              "      <td>28434</td>\n",
              "      <td>29211</td>\n",
              "      <td>40.8</td>\n",
              "      <td>57645</td>\n",
              "      <td>50.673953</td>\n",
              "      <td>33.980869</td>\n",
              "      <td>-86.567380</td>\n",
              "    </tr>\n",
              "  </tbody>\n",
              "</table>\n",
              "</div>"
            ],
            "text/plain": [
              "   fips          county    state  ... female_percentage        lat       long\n",
              "0  1001  Autauga County  Alabama  ...         51.315217  32.534923 -86.642730\n",
              "1  1003  Baldwin County  Alabama  ...         51.376936  30.727479 -87.722564\n",
              "2  1005  Barbour County  Alabama  ...         46.873788  31.869581 -85.393210\n",
              "3  1007     Bibb County  Alabama  ...         46.055844  32.998628 -87.126475\n",
              "4  1009   Blount County  Alabama  ...         50.673953  33.980869 -86.567380\n",
              "\n",
              "[5 rows x 11 columns]"
            ]
          },
          "metadata": {
            "tags": []
          },
          "execution_count": 4
        }
      ]
    },
    {
      "cell_type": "code",
      "metadata": {
        "id": "WzQ50lhw70UI",
        "colab_type": "code",
        "outputId": "91d2aa14-0ed0-4b05-81be-4f130a449480",
        "colab": {
          "base_uri": "https://localhost:8080/",
          "height": 204
        }
      },
      "source": [
        "dat3.head()"
      ],
      "execution_count": 5,
      "outputs": [
        {
          "output_type": "execute_result",
          "data": {
            "text/html": [
              "<div>\n",
              "<style scoped>\n",
              "    .dataframe tbody tr th:only-of-type {\n",
              "        vertical-align: middle;\n",
              "    }\n",
              "\n",
              "    .dataframe tbody tr th {\n",
              "        vertical-align: top;\n",
              "    }\n",
              "\n",
              "    .dataframe thead th {\n",
              "        text-align: right;\n",
              "    }\n",
              "</style>\n",
              "<table border=\"1\" class=\"dataframe\">\n",
              "  <thead>\n",
              "    <tr style=\"text-align: right;\">\n",
              "      <th></th>\n",
              "      <th>date</th>\n",
              "      <th>County</th>\n",
              "      <th>New Positives</th>\n",
              "      <th>Cumulative Number of Positives</th>\n",
              "      <th>Total Number of Tests Performed</th>\n",
              "      <th>Cumulative Number of Tests Performed</th>\n",
              "    </tr>\n",
              "  </thead>\n",
              "  <tbody>\n",
              "    <tr>\n",
              "      <th>0</th>\n",
              "      <td>43955</td>\n",
              "      <td>Albany</td>\n",
              "      <td>7</td>\n",
              "      <td>1294</td>\n",
              "      <td>130</td>\n",
              "      <td>12084</td>\n",
              "    </tr>\n",
              "    <tr>\n",
              "      <th>1</th>\n",
              "      <td>43955</td>\n",
              "      <td>Allegany</td>\n",
              "      <td>0</td>\n",
              "      <td>35</td>\n",
              "      <td>31</td>\n",
              "      <td>637</td>\n",
              "    </tr>\n",
              "    <tr>\n",
              "      <th>2</th>\n",
              "      <td>43955</td>\n",
              "      <td>Bronx</td>\n",
              "      <td>253</td>\n",
              "      <td>39476</td>\n",
              "      <td>2001</td>\n",
              "      <td>103476</td>\n",
              "    </tr>\n",
              "    <tr>\n",
              "      <th>3</th>\n",
              "      <td>43955</td>\n",
              "      <td>Broome</td>\n",
              "      <td>4</td>\n",
              "      <td>338</td>\n",
              "      <td>180</td>\n",
              "      <td>3533</td>\n",
              "    </tr>\n",
              "    <tr>\n",
              "      <th>4</th>\n",
              "      <td>43955</td>\n",
              "      <td>Cattaraugus</td>\n",
              "      <td>0</td>\n",
              "      <td>53</td>\n",
              "      <td>14</td>\n",
              "      <td>1142</td>\n",
              "    </tr>\n",
              "  </tbody>\n",
              "</table>\n",
              "</div>"
            ],
            "text/plain": [
              "    date  ... Cumulative Number of Tests Performed\n",
              "0  43955  ...                                12084\n",
              "1  43955  ...                                  637\n",
              "2  43955  ...                               103476\n",
              "3  43955  ...                                 3533\n",
              "4  43955  ...                                 1142\n",
              "\n",
              "[5 rows x 6 columns]"
            ]
          },
          "metadata": {
            "tags": []
          },
          "execution_count": 5
        }
      ]
    },
    {
      "cell_type": "code",
      "metadata": {
        "id": "CBtEg3jtSR82",
        "colab_type": "code",
        "outputId": "5adafa9c-9dd8-4d5b-a074-345f594685bb",
        "colab": {
          "base_uri": "https://localhost:8080/",
          "height": 204
        }
      },
      "source": [
        "dat4.head()"
      ],
      "execution_count": 6,
      "outputs": [
        {
          "output_type": "execute_result",
          "data": {
            "text/html": [
              "<div>\n",
              "<style scoped>\n",
              "    .dataframe tbody tr th:only-of-type {\n",
              "        vertical-align: middle;\n",
              "    }\n",
              "\n",
              "    .dataframe tbody tr th {\n",
              "        vertical-align: top;\n",
              "    }\n",
              "\n",
              "    .dataframe thead th {\n",
              "        text-align: right;\n",
              "    }\n",
              "</style>\n",
              "<table border=\"1\" class=\"dataframe\">\n",
              "  <thead>\n",
              "    <tr style=\"text-align: right;\">\n",
              "      <th></th>\n",
              "      <th>date</th>\n",
              "      <th>Hospitalizations</th>\n",
              "    </tr>\n",
              "  </thead>\n",
              "  <tbody>\n",
              "    <tr>\n",
              "      <th>0</th>\n",
              "      <td>43893</td>\n",
              "      <td>7.0</td>\n",
              "    </tr>\n",
              "    <tr>\n",
              "      <th>1</th>\n",
              "      <td>43894</td>\n",
              "      <td>8.0</td>\n",
              "    </tr>\n",
              "    <tr>\n",
              "      <th>2</th>\n",
              "      <td>43895</td>\n",
              "      <td>13.0</td>\n",
              "    </tr>\n",
              "    <tr>\n",
              "      <th>3</th>\n",
              "      <td>43896</td>\n",
              "      <td>12.0</td>\n",
              "    </tr>\n",
              "    <tr>\n",
              "      <th>4</th>\n",
              "      <td>43897</td>\n",
              "      <td>10.0</td>\n",
              "    </tr>\n",
              "  </tbody>\n",
              "</table>\n",
              "</div>"
            ],
            "text/plain": [
              "    date  Hospitalizations\n",
              "0  43893               7.0\n",
              "1  43894               8.0\n",
              "2  43895              13.0\n",
              "3  43896              12.0\n",
              "4  43897              10.0"
            ]
          },
          "metadata": {
            "tags": []
          },
          "execution_count": 6
        }
      ]
    },
    {
      "cell_type": "markdown",
      "metadata": {
        "id": "oaaPgbHn38wC",
        "colab_type": "text"
      },
      "source": [
        "Since we are only going to use data from new york city. We are going to clean the data and reform the four dataset in one dataset by merging on their same keys."
      ]
    },
    {
      "cell_type": "code",
      "metadata": {
        "id": "63tp_Ola-8FK",
        "colab_type": "code",
        "colab": {}
      },
      "source": [
        "dat1 = dat1[dat1['state_code'] == 'NY']\n",
        "dat2 = dat2[dat2['state_code'] == 'NY']"
      ],
      "execution_count": 0,
      "outputs": []
    },
    {
      "cell_type": "code",
      "metadata": {
        "id": "KXXo-7Y7Cn1A",
        "colab_type": "code",
        "colab": {}
      },
      "source": [
        "datw = pd.merge(dat1, dat2, on = ['fips'])"
      ],
      "execution_count": 0,
      "outputs": []
    },
    {
      "cell_type": "code",
      "metadata": {
        "id": "pxERZtNlDE9Q",
        "colab_type": "code",
        "outputId": "24e1d825-2ad2-46d5-82a3-e33aef07d61b",
        "colab": {
          "base_uri": "https://localhost:8080/",
          "height": 204
        }
      },
      "source": [
        "datw.head()"
      ],
      "execution_count": 9,
      "outputs": [
        {
          "output_type": "execute_result",
          "data": {
            "text/html": [
              "<div>\n",
              "<style scoped>\n",
              "    .dataframe tbody tr th:only-of-type {\n",
              "        vertical-align: middle;\n",
              "    }\n",
              "\n",
              "    .dataframe tbody tr th {\n",
              "        vertical-align: top;\n",
              "    }\n",
              "\n",
              "    .dataframe thead th {\n",
              "        text-align: right;\n",
              "    }\n",
              "</style>\n",
              "<table border=\"1\" class=\"dataframe\">\n",
              "  <thead>\n",
              "    <tr style=\"text-align: right;\">\n",
              "      <th></th>\n",
              "      <th>fips</th>\n",
              "      <th>county_x</th>\n",
              "      <th>state_x</th>\n",
              "      <th>lat_x</th>\n",
              "      <th>long_x</th>\n",
              "      <th>date</th>\n",
              "      <th>cases</th>\n",
              "      <th>state_code_x</th>\n",
              "      <th>deaths</th>\n",
              "      <th>county_y</th>\n",
              "      <th>state_y</th>\n",
              "      <th>state_code_y</th>\n",
              "      <th>male</th>\n",
              "      <th>female</th>\n",
              "      <th>median_age</th>\n",
              "      <th>population</th>\n",
              "      <th>female_percentage</th>\n",
              "      <th>lat_y</th>\n",
              "      <th>long_y</th>\n",
              "    </tr>\n",
              "  </thead>\n",
              "  <tbody>\n",
              "    <tr>\n",
              "      <th>0</th>\n",
              "      <td>36001.0</td>\n",
              "      <td>Albany</td>\n",
              "      <td>New York</td>\n",
              "      <td>42.600603</td>\n",
              "      <td>-73.977239</td>\n",
              "      <td>43852</td>\n",
              "      <td>0</td>\n",
              "      <td>NY</td>\n",
              "      <td>0</td>\n",
              "      <td>Albany County</td>\n",
              "      <td>New York</td>\n",
              "      <td>NY</td>\n",
              "      <td>148910</td>\n",
              "      <td>158516</td>\n",
              "      <td>37.9</td>\n",
              "      <td>307426</td>\n",
              "      <td>51.562327</td>\n",
              "      <td>42.600177</td>\n",
              "      <td>-73.973555</td>\n",
              "    </tr>\n",
              "    <tr>\n",
              "      <th>1</th>\n",
              "      <td>36001.0</td>\n",
              "      <td>Albany</td>\n",
              "      <td>New York</td>\n",
              "      <td>42.600603</td>\n",
              "      <td>-73.977239</td>\n",
              "      <td>43853</td>\n",
              "      <td>0</td>\n",
              "      <td>NY</td>\n",
              "      <td>0</td>\n",
              "      <td>Albany County</td>\n",
              "      <td>New York</td>\n",
              "      <td>NY</td>\n",
              "      <td>148910</td>\n",
              "      <td>158516</td>\n",
              "      <td>37.9</td>\n",
              "      <td>307426</td>\n",
              "      <td>51.562327</td>\n",
              "      <td>42.600177</td>\n",
              "      <td>-73.973555</td>\n",
              "    </tr>\n",
              "    <tr>\n",
              "      <th>2</th>\n",
              "      <td>36001.0</td>\n",
              "      <td>Albany</td>\n",
              "      <td>New York</td>\n",
              "      <td>42.600603</td>\n",
              "      <td>-73.977239</td>\n",
              "      <td>43854</td>\n",
              "      <td>0</td>\n",
              "      <td>NY</td>\n",
              "      <td>0</td>\n",
              "      <td>Albany County</td>\n",
              "      <td>New York</td>\n",
              "      <td>NY</td>\n",
              "      <td>148910</td>\n",
              "      <td>158516</td>\n",
              "      <td>37.9</td>\n",
              "      <td>307426</td>\n",
              "      <td>51.562327</td>\n",
              "      <td>42.600177</td>\n",
              "      <td>-73.973555</td>\n",
              "    </tr>\n",
              "    <tr>\n",
              "      <th>3</th>\n",
              "      <td>36001.0</td>\n",
              "      <td>Albany</td>\n",
              "      <td>New York</td>\n",
              "      <td>42.600603</td>\n",
              "      <td>-73.977239</td>\n",
              "      <td>43855</td>\n",
              "      <td>0</td>\n",
              "      <td>NY</td>\n",
              "      <td>0</td>\n",
              "      <td>Albany County</td>\n",
              "      <td>New York</td>\n",
              "      <td>NY</td>\n",
              "      <td>148910</td>\n",
              "      <td>158516</td>\n",
              "      <td>37.9</td>\n",
              "      <td>307426</td>\n",
              "      <td>51.562327</td>\n",
              "      <td>42.600177</td>\n",
              "      <td>-73.973555</td>\n",
              "    </tr>\n",
              "    <tr>\n",
              "      <th>4</th>\n",
              "      <td>36001.0</td>\n",
              "      <td>Albany</td>\n",
              "      <td>New York</td>\n",
              "      <td>42.600603</td>\n",
              "      <td>-73.977239</td>\n",
              "      <td>43856</td>\n",
              "      <td>0</td>\n",
              "      <td>NY</td>\n",
              "      <td>0</td>\n",
              "      <td>Albany County</td>\n",
              "      <td>New York</td>\n",
              "      <td>NY</td>\n",
              "      <td>148910</td>\n",
              "      <td>158516</td>\n",
              "      <td>37.9</td>\n",
              "      <td>307426</td>\n",
              "      <td>51.562327</td>\n",
              "      <td>42.600177</td>\n",
              "      <td>-73.973555</td>\n",
              "    </tr>\n",
              "  </tbody>\n",
              "</table>\n",
              "</div>"
            ],
            "text/plain": [
              "      fips county_x   state_x  ...  female_percentage      lat_y     long_y\n",
              "0  36001.0   Albany  New York  ...          51.562327  42.600177 -73.973555\n",
              "1  36001.0   Albany  New York  ...          51.562327  42.600177 -73.973555\n",
              "2  36001.0   Albany  New York  ...          51.562327  42.600177 -73.973555\n",
              "3  36001.0   Albany  New York  ...          51.562327  42.600177 -73.973555\n",
              "4  36001.0   Albany  New York  ...          51.562327  42.600177 -73.973555\n",
              "\n",
              "[5 rows x 19 columns]"
            ]
          },
          "metadata": {
            "tags": []
          },
          "execution_count": 9
        }
      ]
    },
    {
      "cell_type": "code",
      "metadata": {
        "id": "fCeC7it1Lead",
        "colab_type": "code",
        "colab": {}
      },
      "source": [
        "datw = datw.drop(['lat_x', 'long_x', 'state_y', 'county_y', 'state_x','state_code_x','state_code_y', 'date', 'cases', 'deaths'], axis= 1)"
      ],
      "execution_count": 0,
      "outputs": []
    },
    {
      "cell_type": "code",
      "metadata": {
        "id": "8KkcVE4wGNRa",
        "colab_type": "code",
        "colab": {}
      },
      "source": [
        "datt = datw.drop_duplicates()\n",
        "dat3 = dat3.drop_duplicates()"
      ],
      "execution_count": 0,
      "outputs": []
    },
    {
      "cell_type": "code",
      "metadata": {
        "id": "E_UuGoMZ9Xkq",
        "colab_type": "code",
        "colab": {}
      },
      "source": [
        "data = pd.merge(datt, dat3, left_on = 'county_x', right_on='County')"
      ],
      "execution_count": 0,
      "outputs": []
    },
    {
      "cell_type": "code",
      "metadata": {
        "id": "591epReWdQq_",
        "colab_type": "code",
        "colab": {}
      },
      "source": [
        "datf = data.drop(['county_x','fips'], axis=1)"
      ],
      "execution_count": 0,
      "outputs": []
    },
    {
      "cell_type": "code",
      "metadata": {
        "id": "vlL-DgBKR8fD",
        "colab_type": "code",
        "colab": {}
      },
      "source": [
        "datff = pd.merge(datf, dat4, on = 'date')\n",
        "datff = datff.sort_values(by='date',ascending=True)"
      ],
      "execution_count": 0,
      "outputs": []
    },
    {
      "cell_type": "code",
      "metadata": {
        "id": "mUEcAo5KTRV1",
        "colab_type": "code",
        "outputId": "05f6f48a-3a1d-455b-8498-42d3419d1780",
        "colab": {
          "base_uri": "https://localhost:8080/",
          "height": 436
        }
      },
      "source": [
        "datff.rename(columns={'Hospitalizations':'NYCumuHospitalizations'})"
      ],
      "execution_count": 15,
      "outputs": [
        {
          "output_type": "execute_result",
          "data": {
            "text/html": [
              "<div>\n",
              "<style scoped>\n",
              "    .dataframe tbody tr th:only-of-type {\n",
              "        vertical-align: middle;\n",
              "    }\n",
              "\n",
              "    .dataframe tbody tr th {\n",
              "        vertical-align: top;\n",
              "    }\n",
              "\n",
              "    .dataframe thead th {\n",
              "        text-align: right;\n",
              "    }\n",
              "</style>\n",
              "<table border=\"1\" class=\"dataframe\">\n",
              "  <thead>\n",
              "    <tr style=\"text-align: right;\">\n",
              "      <th></th>\n",
              "      <th>male</th>\n",
              "      <th>female</th>\n",
              "      <th>median_age</th>\n",
              "      <th>population</th>\n",
              "      <th>female_percentage</th>\n",
              "      <th>lat_y</th>\n",
              "      <th>long_y</th>\n",
              "      <th>date</th>\n",
              "      <th>County</th>\n",
              "      <th>New Positives</th>\n",
              "      <th>Cumulative Number of Positives</th>\n",
              "      <th>Total Number of Tests Performed</th>\n",
              "      <th>Cumulative Number of Tests Performed</th>\n",
              "      <th>NYCumuHospitalizations</th>\n",
              "    </tr>\n",
              "  </thead>\n",
              "  <tbody>\n",
              "    <tr>\n",
              "      <th>3905</th>\n",
              "      <td>11999</td>\n",
              "      <td>13010</td>\n",
              "      <td>41.3</td>\n",
              "      <td>25009</td>\n",
              "      <td>52.021272</td>\n",
              "      <td>42.633449</td>\n",
              "      <td>-77.105468</td>\n",
              "      <td>43893</td>\n",
              "      <td>Yates</td>\n",
              "      <td>0</td>\n",
              "      <td>0</td>\n",
              "      <td>0</td>\n",
              "      <td>0</td>\n",
              "      <td>7.0</td>\n",
              "    </tr>\n",
              "    <tr>\n",
              "      <th>3871</th>\n",
              "      <td>359374</td>\n",
              "      <td>384874</td>\n",
              "      <td>38.9</td>\n",
              "      <td>744248</td>\n",
              "      <td>51.713139</td>\n",
              "      <td>43.146446</td>\n",
              "      <td>-77.696089</td>\n",
              "      <td>43893</td>\n",
              "      <td>Monroe</td>\n",
              "      <td>0</td>\n",
              "      <td>0</td>\n",
              "      <td>0</td>\n",
              "      <td>0</td>\n",
              "      <td>7.0</td>\n",
              "    </tr>\n",
              "    <tr>\n",
              "      <th>3870</th>\n",
              "      <td>35252</td>\n",
              "      <td>36107</td>\n",
              "      <td>41.7</td>\n",
              "      <td>71359</td>\n",
              "      <td>50.599084</td>\n",
              "      <td>42.912766</td>\n",
              "      <td>-75.669649</td>\n",
              "      <td>43893</td>\n",
              "      <td>Madison</td>\n",
              "      <td>0</td>\n",
              "      <td>0</td>\n",
              "      <td>0</td>\n",
              "      <td>0</td>\n",
              "      <td>7.0</td>\n",
              "    </tr>\n",
              "    <tr>\n",
              "      <th>3869</th>\n",
              "      <td>32050</td>\n",
              "      <td>31857</td>\n",
              "      <td>40.8</td>\n",
              "      <td>63907</td>\n",
              "      <td>49.848999</td>\n",
              "      <td>42.728063</td>\n",
              "      <td>-77.775494</td>\n",
              "      <td>43893</td>\n",
              "      <td>Livingston</td>\n",
              "      <td>0</td>\n",
              "      <td>0</td>\n",
              "      <td>0</td>\n",
              "      <td>0</td>\n",
              "      <td>7.0</td>\n",
              "    </tr>\n",
              "    <tr>\n",
              "      <th>3868</th>\n",
              "      <td>13451</td>\n",
              "      <td>13268</td>\n",
              "      <td>42.0</td>\n",
              "      <td>26719</td>\n",
              "      <td>49.657547</td>\n",
              "      <td>43.784657</td>\n",
              "      <td>-75.448849</td>\n",
              "      <td>43893</td>\n",
              "      <td>Lewis</td>\n",
              "      <td>0</td>\n",
              "      <td>0</td>\n",
              "      <td>0</td>\n",
              "      <td>0</td>\n",
              "      <td>7.0</td>\n",
              "    </tr>\n",
              "    <tr>\n",
              "      <th>...</th>\n",
              "      <td>...</td>\n",
              "      <td>...</td>\n",
              "      <td>...</td>\n",
              "      <td>...</td>\n",
              "      <td>...</td>\n",
              "      <td>...</td>\n",
              "      <td>...</td>\n",
              "      <td>...</td>\n",
              "      <td>...</td>\n",
              "      <td>...</td>\n",
              "      <td>...</td>\n",
              "      <td>...</td>\n",
              "      <td>...</td>\n",
              "      <td>...</td>\n",
              "    </tr>\n",
              "    <tr>\n",
              "      <th>35</th>\n",
              "      <td>189484</td>\n",
              "      <td>188743</td>\n",
              "      <td>36.9</td>\n",
              "      <td>378227</td>\n",
              "      <td>49.902043</td>\n",
              "      <td>41.402137</td>\n",
              "      <td>-74.305545</td>\n",
              "      <td>43955</td>\n",
              "      <td>Orange</td>\n",
              "      <td>129</td>\n",
              "      <td>9144</td>\n",
              "      <td>869</td>\n",
              "      <td>30648</td>\n",
              "      <td>NaN</td>\n",
              "    </tr>\n",
              "    <tr>\n",
              "      <th>34</th>\n",
              "      <td>53704</td>\n",
              "      <td>55768</td>\n",
              "      <td>43.5</td>\n",
              "      <td>109472</td>\n",
              "      <td>50.942707</td>\n",
              "      <td>42.852848</td>\n",
              "      <td>-77.299820</td>\n",
              "      <td>43955</td>\n",
              "      <td>Ontario</td>\n",
              "      <td>1</td>\n",
              "      <td>97</td>\n",
              "      <td>86</td>\n",
              "      <td>2021</td>\n",
              "      <td>NaN</td>\n",
              "    </tr>\n",
              "    <tr>\n",
              "      <th>33</th>\n",
              "      <td>223995</td>\n",
              "      <td>240247</td>\n",
              "      <td>39.0</td>\n",
              "      <td>464242</td>\n",
              "      <td>51.750380</td>\n",
              "      <td>43.005814</td>\n",
              "      <td>-76.194635</td>\n",
              "      <td>43955</td>\n",
              "      <td>Onondaga</td>\n",
              "      <td>31</td>\n",
              "      <td>1002</td>\n",
              "      <td>176</td>\n",
              "      <td>12639</td>\n",
              "      <td>NaN</td>\n",
              "    </tr>\n",
              "    <tr>\n",
              "      <th>47</th>\n",
              "      <td>15620</td>\n",
              "      <td>15744</td>\n",
              "      <td>45.1</td>\n",
              "      <td>31364</td>\n",
              "      <td>50.197679</td>\n",
              "      <td>42.588217</td>\n",
              "      <td>-74.442114</td>\n",
              "      <td>43955</td>\n",
              "      <td>Schoharie</td>\n",
              "      <td>0</td>\n",
              "      <td>45</td>\n",
              "      <td>29</td>\n",
              "      <td>719</td>\n",
              "      <td>NaN</td>\n",
              "    </tr>\n",
              "    <tr>\n",
              "      <th>0</th>\n",
              "      <td>148910</td>\n",
              "      <td>158516</td>\n",
              "      <td>37.9</td>\n",
              "      <td>307426</td>\n",
              "      <td>51.562327</td>\n",
              "      <td>42.600177</td>\n",
              "      <td>-73.973555</td>\n",
              "      <td>43955</td>\n",
              "      <td>Albany</td>\n",
              "      <td>7</td>\n",
              "      <td>1294</td>\n",
              "      <td>130</td>\n",
              "      <td>12084</td>\n",
              "      <td>NaN</td>\n",
              "    </tr>\n",
              "  </tbody>\n",
              "</table>\n",
              "<p>3906 rows × 14 columns</p>\n",
              "</div>"
            ],
            "text/plain": [
              "        male  ...  NYCumuHospitalizations\n",
              "3905   11999  ...                     7.0\n",
              "3871  359374  ...                     7.0\n",
              "3870   35252  ...                     7.0\n",
              "3869   32050  ...                     7.0\n",
              "3868   13451  ...                     7.0\n",
              "...      ...  ...                     ...\n",
              "35    189484  ...                     NaN\n",
              "34     53704  ...                     NaN\n",
              "33    223995  ...                     NaN\n",
              "47     15620  ...                     NaN\n",
              "0     148910  ...                     NaN\n",
              "\n",
              "[3906 rows x 14 columns]"
            ]
          },
          "metadata": {
            "tags": []
          },
          "execution_count": 15
        }
      ]
    },
    {
      "cell_type": "code",
      "metadata": {
        "id": "EKfvCV3aWyNB",
        "colab_type": "code",
        "colab": {}
      },
      "source": [
        "datff = datff.fillna(method = 'pad')"
      ],
      "execution_count": 0,
      "outputs": []
    },
    {
      "cell_type": "code",
      "metadata": {
        "id": "0fBs_OIPEzb6",
        "colab_type": "code",
        "colab": {}
      },
      "source": [
        "from google.colab import files\n",
        "datff.to_csv('final.csv') \n",
        "files.download('final.csv')"
      ],
      "execution_count": 0,
      "outputs": []
    },
    {
      "cell_type": "markdown",
      "metadata": {
        "id": "-xSaOnZP4ZtN",
        "colab_type": "text"
      },
      "source": [
        "Now we are able to see the info provided by the final datasets describing the COVID-19 information in New York statewise by county."
      ]
    },
    {
      "cell_type": "code",
      "metadata": {
        "id": "wiR18O3tS5l2",
        "colab_type": "code",
        "outputId": "cd5a6d9f-e8ec-41ec-c1ad-0e2c0f30d6bf",
        "colab": {
          "base_uri": "https://localhost:8080/",
          "height": 374
        }
      },
      "source": [
        "datff.info()"
      ],
      "execution_count": 17,
      "outputs": [
        {
          "output_type": "stream",
          "text": [
            "<class 'pandas.core.frame.DataFrame'>\n",
            "Int64Index: 3906 entries, 3905 to 0\n",
            "Data columns (total 14 columns):\n",
            " #   Column                                Non-Null Count  Dtype  \n",
            "---  ------                                --------------  -----  \n",
            " 0   male                                  3906 non-null   int64  \n",
            " 1   female                                3906 non-null   int64  \n",
            " 2   median_age                            3906 non-null   float64\n",
            " 3   population                            3906 non-null   int64  \n",
            " 4   female_percentage                     3906 non-null   float64\n",
            " 5   lat_y                                 3906 non-null   float64\n",
            " 6   long_y                                3906 non-null   float64\n",
            " 7   date                                  3906 non-null   int64  \n",
            " 8   County                                3906 non-null   object \n",
            " 9   New Positives                         3906 non-null   int64  \n",
            " 10  Cumulative Number of Positives        3906 non-null   int64  \n",
            " 11  Total Number of Tests Performed       3906 non-null   int64  \n",
            " 12  Cumulative Number of Tests Performed  3906 non-null   int64  \n",
            " 13  Hospitalizations                      3906 non-null   float64\n",
            "dtypes: float64(5), int64(8), object(1)\n",
            "memory usage: 457.7+ KB\n"
          ],
          "name": "stdout"
        }
      ]
    },
    {
      "cell_type": "markdown",
      "metadata": {
        "id": "BSGYHF-34qNb",
        "colab_type": "text"
      },
      "source": [
        "## 2. Building The First Regression Model: Random Forest Regression"
      ]
    },
    {
      "cell_type": "markdown",
      "metadata": {
        "id": "ryB9oB4o4yNa",
        "colab_type": "text"
      },
      "source": [
        "After cleaning the  data, we are now going to build our regressor since we are predicting indexs not classes. Here, considering possible missing data in hospitalization, the properties of random forest regressor will help us eliminate the impact of missing data. So we going to build a Rondom forest regressor."
      ]
    },
    {
      "cell_type": "markdown",
      "metadata": {
        "id": "wmLnuLwk5Fwi",
        "colab_type": "text"
      },
      "source": [
        "First we will our elements using for predication and our desired predication data. Since we going to predict the trend of pandemic in New York city, it's the best for us to use \"New Positives\" as our prediction target. And we will use all the other elements except for the object element \"County\" as our training elements. The longtitude and the latitude elements could represents the geographical effect of the virus instead of \"County\" element."
      ]
    },
    {
      "cell_type": "code",
      "metadata": {
        "id": "CLDq4FH0cbJI",
        "colab_type": "code",
        "colab": {}
      },
      "source": [
        "y = datff.iloc[:,9].values\n",
        "X = datff.iloc[:, [0,1,2,3,4,5,6,7,10,11,12,13]].values"
      ],
      "execution_count": 0,
      "outputs": []
    },
    {
      "cell_type": "code",
      "metadata": {
        "id": "_Sh6AmUVd1iF",
        "colab_type": "code",
        "colab": {}
      },
      "source": [
        "X_train, X_test, y_train, y_test = train_test_split(X, y, test_size=0.2, random_state = 30)"
      ],
      "execution_count": 0,
      "outputs": []
    },
    {
      "cell_type": "markdown",
      "metadata": {
        "id": "i2W3HU6v6Swr",
        "colab_type": "text"
      },
      "source": [
        "Due to different length of indexs of each elements, we need to preprocess the scale of the data to make sure they are all normalized and easy to handled by our regressor."
      ]
    },
    {
      "cell_type": "code",
      "metadata": {
        "id": "0WbRfkj4d4mt",
        "colab_type": "code",
        "colab": {}
      },
      "source": [
        "# Preprocessing\n",
        "scaler = StandardScaler()\n",
        "# Fit only to the training data\n",
        "scaler.fit(X_train)\n",
        "StandardScaler(copy=True, with_mean=True, with_std=True)\n",
        "# Now apply the transformations to the data:\n",
        "X_train = scaler.transform(X_train)\n",
        "X_test = scaler.transform(X_test)"
      ],
      "execution_count": 0,
      "outputs": []
    },
    {
      "cell_type": "markdown",
      "metadata": {
        "id": "payTr1ai6cfX",
        "colab_type": "text"
      },
      "source": [
        "After preprocessing we need find the best parameters for the regressor, we are going to use the random grid function in sklearn to help with it. In the following part we will list all the parameters we want the algorithm to choose for us in ten randomly learned models. \n",
        "\n",
        "Other than this setting, we will set the regressor's critetion to \"MAE\" in order to eliminate any significant impact of anomalous datapoints to the learning algorithm."
      ]
    },
    {
      "cell_type": "code",
      "metadata": {
        "id": "i47Xk7aJd7Vl",
        "colab_type": "code",
        "colab": {}
      },
      "source": [
        "# Number of trees in random forest\n",
        "n_estimators = [int(x) for x in np.linspace(start = 200, stop = 2000, num = 10)]\n",
        "# Number of features to consider at every split\n",
        "max_features = ['auto', 'sqrt']\n",
        "# Maximum number of levels in tree\n",
        "max_depth = [int(x) for x in np.linspace(1, 100, num = 10)]\n",
        "max_depth.append(None)\n",
        "# Minimum number of samples required to split a node\n",
        "min_samples_split = [2, 5, 10]\n",
        "# Minimum number of samples required at each leaf node\n",
        "min_samples_leaf = [1, 2, 4]\n",
        "# Method of selecting samples for training each tree\n",
        "bootstrap = [True, False]\n",
        "# Create the random grid\n",
        "random_grid = {'n_estimators': n_estimators,\n",
        "               'max_features': max_features,\n",
        "               'max_depth': max_depth,\n",
        "               'min_samples_split': min_samples_split,\n",
        "               'min_samples_leaf': min_samples_leaf,\n",
        "               'bootstrap': bootstrap}"
      ],
      "execution_count": 0,
      "outputs": []
    },
    {
      "cell_type": "code",
      "metadata": {
        "id": "UYoTSDW2eChA",
        "colab_type": "code",
        "outputId": "43468702-5a2e-44e3-bb97-717685599a45",
        "colab": {
          "base_uri": "https://localhost:8080/",
          "height": 54
        }
      },
      "source": [
        "print(random_grid)"
      ],
      "execution_count": 0,
      "outputs": [
        {
          "output_type": "stream",
          "text": [
            "{'n_estimators': [200, 400, 600, 800, 1000, 1200, 1400, 1600, 1800, 2000], 'max_features': ['auto', 'sqrt'], 'max_depth': [1, 12, 23, 34, 45, 56, 67, 78, 89, 100, None], 'min_samples_split': [2, 5, 10], 'min_samples_leaf': [1, 2, 4], 'bootstrap': [True, False]}\n"
          ],
          "name": "stdout"
        }
      ]
    },
    {
      "cell_type": "code",
      "metadata": {
        "id": "ieBSxcqWeFPx",
        "colab_type": "code",
        "outputId": "637d3c88-ae2c-43df-9393-ea316873edcb",
        "colab": {
          "base_uri": "https://localhost:8080/",
          "height": 34
        }
      },
      "source": [
        "# Check for the best parameters of regressor\n",
        "rf = RandomForestRegressor()\n",
        "rf_random = RandomizedSearchCV(estimator=rf, param_distributions = random_grid, cv=10)\n",
        "rf_random.fit(X_train,y_train)\n",
        "print(rf_random.best_params_)"
      ],
      "execution_count": 0,
      "outputs": [
        {
          "output_type": "stream",
          "text": [
            "{'n_estimators': 200, 'min_samples_split': 5, 'min_samples_leaf': 2, 'max_features': 'auto', 'max_depth': 56, 'bootstrap': True}\n"
          ],
          "name": "stdout"
        }
      ]
    },
    {
      "cell_type": "markdown",
      "metadata": {
        "id": "OLO-mGu871bR",
        "colab_type": "text"
      },
      "source": [
        "We have the best regressor model as the random grid function searched for us, now we will use this elements to build our regressor and train our model on training sets."
      ]
    },
    {
      "cell_type": "code",
      "metadata": {
        "id": "GaCPyCSJeF03",
        "colab_type": "code",
        "outputId": "389d1958-2cb8-466d-a840-bac98a39acc1",
        "colab": {
          "base_uri": "https://localhost:8080/",
          "height": 136
        }
      },
      "source": [
        "# Train the model\n",
        "ranforreg = RandomForestRegressor(n_estimators=200, criterion = \"mae\", min_samples_leaf = 2, max_features = \"auto\", random_state=30, bootstrap=True, min_samples_split=5, max_depth = 56) \n",
        "ranforreg.fit(X_train, y_train)"
      ],
      "execution_count": 0,
      "outputs": [
        {
          "output_type": "execute_result",
          "data": {
            "text/plain": [
              "RandomForestRegressor(bootstrap=True, ccp_alpha=0.0, criterion='mae',\n",
              "                      max_depth=56, max_features='auto', max_leaf_nodes=None,\n",
              "                      max_samples=None, min_impurity_decrease=0.0,\n",
              "                      min_impurity_split=None, min_samples_leaf=2,\n",
              "                      min_samples_split=5, min_weight_fraction_leaf=0.0,\n",
              "                      n_estimators=200, n_jobs=None, oob_score=False,\n",
              "                      random_state=30, verbose=0, warm_start=False)"
            ]
          },
          "metadata": {
            "tags": []
          },
          "execution_count": 26
        }
      ]
    },
    {
      "cell_type": "markdown",
      "metadata": {
        "id": "pUIYBal28ZNm",
        "colab_type": "text"
      },
      "source": [
        "After training the model, we could use the model to predict on our test sets to see its performance."
      ]
    },
    {
      "cell_type": "code",
      "metadata": {
        "id": "6_0AKNbMeIcI",
        "colab_type": "code",
        "outputId": "866130d5-d246-457a-c217-f2635dcd0118",
        "colab": {
          "base_uri": "https://localhost:8080/",
          "height": 34
        }
      },
      "source": [
        "# Test the model and see how it fits the regression\n",
        "predictions = ranforreg.predict(X_test)\n",
        "print(r2_score(y_test, predictions))"
      ],
      "execution_count": 0,
      "outputs": [
        {
          "output_type": "stream",
          "text": [
            "0.9827466187908719\n"
          ],
          "name": "stdout"
        }
      ]
    },
    {
      "cell_type": "code",
      "metadata": {
        "id": "9e2tfBRptIAh",
        "colab_type": "code",
        "colab": {}
      },
      "source": [
        "scores = cross_val_score(ranforreg, X_test, y_test, cv = 5)"
      ],
      "execution_count": 0,
      "outputs": []
    },
    {
      "cell_type": "code",
      "metadata": {
        "id": "OHiSfbQptpd-",
        "colab_type": "code",
        "outputId": "0b9a067c-c88b-4849-a352-2243ab29610d",
        "colab": {
          "base_uri": "https://localhost:8080/",
          "height": 34
        }
      },
      "source": [
        "scores.mean()  "
      ],
      "execution_count": 0,
      "outputs": [
        {
          "output_type": "execute_result",
          "data": {
            "text/plain": [
              "0.9457228455817809"
            ]
          },
          "metadata": {
            "tags": []
          },
          "execution_count": 29
        }
      ]
    },
    {
      "cell_type": "markdown",
      "metadata": {
        "id": "NoWV9Lzy8qjQ",
        "colab_type": "text"
      },
      "source": [
        "After testing, our model was graded by the R2 score of fitness 98.27%, comparing with the original target datapoints. For best evaluation of our model, we implement 5-fold cross validation on our model, and it wins a average score of 94.57% of our model."
      ]
    },
    {
      "cell_type": "markdown",
      "metadata": {
        "id": "gOCUKSnxzqkr",
        "colab_type": "text"
      },
      "source": [
        "## 3. Second Model : KNN Regressor"
      ]
    },
    {
      "cell_type": "markdown",
      "metadata": {
        "id": "nb14qfueAETV",
        "colab_type": "text"
      },
      "source": [
        "In order to check to make sure our datasets is usable for further prediction of the trend, we will build another regressor in order to check.\n",
        "\n",
        "Here we are going to use the K-neighbourhood regressor in order to predict the trend in New York state by counties since I believe pandemic performance in the same area will probably have close features reflected by the datapoints.\n",
        "\n",
        "We will still start with select parameters for the regressor. Here we will introduce grid search function in sklearn in order to help us with this problem."
      ]
    },
    {
      "cell_type": "code",
      "metadata": {
        "id": "sekT_gs4zxms",
        "colab_type": "code",
        "colab": {}
      },
      "source": [
        "from sklearn.neighbors import KNeighborsRegressor\n",
        "from sklearn.model_selection import GridSearchCV"
      ],
      "execution_count": 0,
      "outputs": []
    },
    {
      "cell_type": "code",
      "metadata": {
        "id": "85sdJ1W39cgb",
        "colab_type": "code",
        "colab": {}
      },
      "source": [
        "grid_params = {\n",
        "    'n_neighbors': [3, 9, 11, 19],\n",
        "    'weights': ['uniform', 'distance'],\n",
        "    'metric': ['euclidean', 'manhattan','minkowski'],\n",
        "    'algorithm': ['auto', 'ball_tree', 'kd_tree'],\n",
        "    'leaf_size': [10, 30, 50],\n",
        "}\n",
        "KNN = KNeighborsRegressor()\n",
        "gs = GridSearchCV(KNN, grid_params, verbose = 1, cv = 5)"
      ],
      "execution_count": 0,
      "outputs": []
    },
    {
      "cell_type": "code",
      "metadata": {
        "id": "ypnqV1Hs-8mh",
        "colab_type": "code",
        "colab": {
          "base_uri": "https://localhost:8080/",
          "height": 68
        },
        "outputId": "d407695a-df0f-43d9-d1bc-08b707c23f0e"
      },
      "source": [
        "gs_result = gs.fit(X_train, y_train)"
      ],
      "execution_count": 25,
      "outputs": [
        {
          "output_type": "stream",
          "text": [
            "Fitting 5 folds for each of 216 candidates, totalling 1080 fits\n"
          ],
          "name": "stdout"
        },
        {
          "output_type": "stream",
          "text": [
            "[Parallel(n_jobs=1)]: Using backend SequentialBackend with 1 concurrent workers.\n",
            "[Parallel(n_jobs=1)]: Done 1080 out of 1080 | elapsed:   21.5s finished\n"
          ],
          "name": "stderr"
        }
      ]
    },
    {
      "cell_type": "code",
      "metadata": {
        "id": "J5m0ehl__YAn",
        "colab_type": "code",
        "colab": {
          "base_uri": "https://localhost:8080/",
          "height": 34
        },
        "outputId": "46bfeb4b-0991-4ee2-fb0f-5c5e3ccc0d01"
      },
      "source": [
        "print(gs_result.best_params_)"
      ],
      "execution_count": 27,
      "outputs": [
        {
          "output_type": "stream",
          "text": [
            "{'algorithm': 'auto', 'leaf_size': 10, 'metric': 'euclidean', 'n_neighbors': 3, 'weights': 'distance'}\n"
          ],
          "name": "stdout"
        }
      ]
    },
    {
      "cell_type": "markdown",
      "metadata": {
        "id": "eUS3BMiyC1a3",
        "colab_type": "text"
      },
      "source": [
        "After training the grid search CV using our training data, we find the best parameters of the algorithm. Now we will implement these paramters and train our model using the training sets."
      ]
    },
    {
      "cell_type": "code",
      "metadata": {
        "id": "EGzR3iClz0FC",
        "colab_type": "code",
        "outputId": "695086fe-2673-4d1c-b62b-465c2fdbd625",
        "colab": {
          "base_uri": "https://localhost:8080/",
          "height": 68
        }
      },
      "source": [
        "KNN2 = KNeighborsRegressor(\n",
        "    algorithm='auto', leaf_size=10, metric='euclidean',\n",
        "    metric_params=None, n_jobs=None, n_neighbors=3, p=2,\n",
        "    weights='distance')\n",
        "KNN2.fit(X_train, y_train)"
      ],
      "execution_count": 31,
      "outputs": [
        {
          "output_type": "execute_result",
          "data": {
            "text/plain": [
              "KNeighborsRegressor(algorithm='auto', leaf_size=10, metric='euclidean',\n",
              "                    metric_params=None, n_jobs=None, n_neighbors=3, p=2,\n",
              "                    weights='distance')"
            ]
          },
          "metadata": {
            "tags": []
          },
          "execution_count": 31
        }
      ]
    },
    {
      "cell_type": "markdown",
      "metadata": {
        "id": "9dMO2PUpevNS",
        "colab_type": "text"
      },
      "source": [
        "After training our KNN regressor, now we could predict the data with our test sets and compare with our test results with the orginal data. And then using the 5-fold cross validation to test the performance of the model."
      ]
    },
    {
      "cell_type": "code",
      "metadata": {
        "id": "GcE7fixP_w-y",
        "colab_type": "code",
        "colab": {
          "base_uri": "https://localhost:8080/",
          "height": 34
        },
        "outputId": "1503f5ac-0fff-47df-c759-2740ff84bccd"
      },
      "source": [
        "prediction2 = KNN2.predict(X_test)\n",
        "print(r2_score(y_test, prediction2))"
      ],
      "execution_count": 33,
      "outputs": [
        {
          "output_type": "stream",
          "text": [
            "0.9745914789642072\n"
          ],
          "name": "stdout"
        }
      ]
    },
    {
      "cell_type": "code",
      "metadata": {
        "id": "y5lxb8QAz1-6",
        "colab_type": "code",
        "colab": {}
      },
      "source": [
        "scores = cross_val_score(KNN2, X_test, y_test, cv = 5)"
      ],
      "execution_count": 0,
      "outputs": []
    },
    {
      "cell_type": "code",
      "metadata": {
        "id": "AsDUCsJw0G7r",
        "colab_type": "code",
        "outputId": "cd917def-bd14-45bb-9185-6a1bb53111b6",
        "colab": {
          "base_uri": "https://localhost:8080/",
          "height": 34
        }
      },
      "source": [
        "scores.mean()  "
      ],
      "execution_count": 35,
      "outputs": [
        {
          "output_type": "execute_result",
          "data": {
            "text/plain": [
              "0.9333196671331014"
            ]
          },
          "metadata": {
            "tags": []
          },
          "execution_count": 35
        }
      ]
    },
    {
      "cell_type": "markdown",
      "metadata": {
        "id": "MoI3KyZYfUAS",
        "colab_type": "text"
      },
      "source": [
        "We could see that our KNN regressor have a R2 score of fitness of 97.46% and a average performance score of 93.32%. It shows that KNN regressor is also a possible model to predict trend of pandemic in the future in New York State."
      ]
    },
    {
      "cell_type": "markdown",
      "metadata": {
        "id": "VwD-CnpVeSy7",
        "colab_type": "text"
      },
      "source": [
        "## Conclusion and Data Visualization"
      ]
    },
    {
      "cell_type": "markdown",
      "metadata": {
        "id": "RnMsNTfZeZ4k",
        "colab_type": "text"
      },
      "source": [
        "![20200506_104748.gif](https://i.loli.net/2020/05/06/7CibQYjNmK8Spve.gif)"
      ]
    },
    {
      "cell_type": "markdown",
      "metadata": {
        "id": "xKsT8Jzlftfe",
        "colab_type": "text"
      },
      "source": [
        "The former GIF is a sorting image of weekly new positive cases in each county in New York states. We could possibly see a trend along the timeline.\n",
        "\n",
        "After our data visualisation and testing of preditor models, we could possibly conclude that the pandemic trend in New York can be predicted using several known data and common statistics of the counties."
      ]
    }
  ]
}