{
  "nbformat": 4,
  "nbformat_minor": 0,
  "metadata": {
    "colab": {
      "name": "Project 4.ipynb",
      "provenance": [],
      "authorship_tag": "ABX9TyOk3Swi5D9szpS2Aeff6Z+S",
      "include_colab_link": true
    },
    "kernelspec": {
      "name": "python3",
      "display_name": "Python 3"
    }
  },
  "cells": [
    {
      "cell_type": "markdown",
      "metadata": {
        "id": "view-in-github",
        "colab_type": "text"
      },
      "source": [
        "<a href=\"https://colab.research.google.com/github/Andrea227/dailyexercise/blob/master/Project_4.ipynb\" target=\"_parent\"><img src=\"https://colab.research.google.com/assets/colab-badge.svg\" alt=\"Open In Colab\"/></a>"
      ]
    },
    {
      "cell_type": "markdown",
      "metadata": {
        "id": "bpnO9D1ervyC",
        "colab_type": "text"
      },
      "source": [
        "# First regression model--Random forest regression"
      ]
    },
    {
      "cell_type": "code",
      "metadata": {
        "id": "E6V8eHSfSbl0",
        "colab_type": "code",
        "colab": {}
      },
      "source": [
        "import pandas as pd\n",
        "import numpy as np\n",
        "from sklearn.model_selection import train_test_split\n",
        "from sklearn.preprocessing import StandardScaler\n",
        "from sklearn.ensemble import RandomForestRegressor\n",
        "from sklearn.metrics import classification_report, confusion_matrix\n",
        "from sklearn.metrics import accuracy_score\n",
        "from sklearn.model_selection import cross_validate\n",
        "from sklearn.model_selection import cross_val_score\n",
        "from sklearn.metrics import r2_score\n",
        "from sklearn.model_selection import RandomizedSearchCV"
      ],
      "execution_count": 0,
      "outputs": []
    },
    {
      "cell_type": "code",
      "metadata": {
        "id": "qF2EnbfIRc35",
        "colab_type": "code",
        "colab": {}
      },
      "source": [
        "# set up the data drame and parameters\n",
        "data = pd.read_csv('https://raw.githubusercontent.com/Andrea227/dailyexercise/master/Admission_Predict_Ver1.1.csv')"
      ],
      "execution_count": 0,
      "outputs": []
    },
    {
      "cell_type": "code",
      "metadata": {
        "id": "EOzWb0BjUgN3",
        "colab_type": "code",
        "outputId": "af5b9162-4dae-46af-b678-600585951440",
        "colab": {
          "base_uri": "https://localhost:8080/",
          "height": 204
        }
      },
      "source": [
        "data.head()"
      ],
      "execution_count": 4,
      "outputs": [
        {
          "output_type": "execute_result",
          "data": {
            "text/html": [
              "<div>\n",
              "<style scoped>\n",
              "    .dataframe tbody tr th:only-of-type {\n",
              "        vertical-align: middle;\n",
              "    }\n",
              "\n",
              "    .dataframe tbody tr th {\n",
              "        vertical-align: top;\n",
              "    }\n",
              "\n",
              "    .dataframe thead th {\n",
              "        text-align: right;\n",
              "    }\n",
              "</style>\n",
              "<table border=\"1\" class=\"dataframe\">\n",
              "  <thead>\n",
              "    <tr style=\"text-align: right;\">\n",
              "      <th></th>\n",
              "      <th>Serial No.</th>\n",
              "      <th>GRE Score</th>\n",
              "      <th>TOEFL Score</th>\n",
              "      <th>University Rating</th>\n",
              "      <th>SOP</th>\n",
              "      <th>LOR</th>\n",
              "      <th>CGPA</th>\n",
              "      <th>Research</th>\n",
              "      <th>Chance of Admit</th>\n",
              "    </tr>\n",
              "  </thead>\n",
              "  <tbody>\n",
              "    <tr>\n",
              "      <th>0</th>\n",
              "      <td>1</td>\n",
              "      <td>337</td>\n",
              "      <td>118</td>\n",
              "      <td>4</td>\n",
              "      <td>4.5</td>\n",
              "      <td>4.5</td>\n",
              "      <td>9.65</td>\n",
              "      <td>1</td>\n",
              "      <td>0.92</td>\n",
              "    </tr>\n",
              "    <tr>\n",
              "      <th>1</th>\n",
              "      <td>2</td>\n",
              "      <td>324</td>\n",
              "      <td>107</td>\n",
              "      <td>4</td>\n",
              "      <td>4.0</td>\n",
              "      <td>4.5</td>\n",
              "      <td>8.87</td>\n",
              "      <td>1</td>\n",
              "      <td>0.76</td>\n",
              "    </tr>\n",
              "    <tr>\n",
              "      <th>2</th>\n",
              "      <td>3</td>\n",
              "      <td>316</td>\n",
              "      <td>104</td>\n",
              "      <td>3</td>\n",
              "      <td>3.0</td>\n",
              "      <td>3.5</td>\n",
              "      <td>8.00</td>\n",
              "      <td>1</td>\n",
              "      <td>0.72</td>\n",
              "    </tr>\n",
              "    <tr>\n",
              "      <th>3</th>\n",
              "      <td>4</td>\n",
              "      <td>322</td>\n",
              "      <td>110</td>\n",
              "      <td>3</td>\n",
              "      <td>3.5</td>\n",
              "      <td>2.5</td>\n",
              "      <td>8.67</td>\n",
              "      <td>1</td>\n",
              "      <td>0.80</td>\n",
              "    </tr>\n",
              "    <tr>\n",
              "      <th>4</th>\n",
              "      <td>5</td>\n",
              "      <td>314</td>\n",
              "      <td>103</td>\n",
              "      <td>2</td>\n",
              "      <td>2.0</td>\n",
              "      <td>3.0</td>\n",
              "      <td>8.21</td>\n",
              "      <td>0</td>\n",
              "      <td>0.65</td>\n",
              "    </tr>\n",
              "  </tbody>\n",
              "</table>\n",
              "</div>"
            ],
            "text/plain": [
              "   Serial No.  GRE Score  TOEFL Score  ...  CGPA  Research  Chance of Admit \n",
              "0           1        337          118  ...  9.65         1              0.92\n",
              "1           2        324          107  ...  8.87         1              0.76\n",
              "2           3        316          104  ...  8.00         1              0.72\n",
              "3           4        322          110  ...  8.67         1              0.80\n",
              "4           5        314          103  ...  8.21         0              0.65\n",
              "\n",
              "[5 rows x 9 columns]"
            ]
          },
          "metadata": {
            "tags": []
          },
          "execution_count": 4
        }
      ]
    },
    {
      "cell_type": "code",
      "metadata": {
        "id": "u1VROnsVVfA1",
        "colab_type": "code",
        "colab": {}
      },
      "source": [
        "# Set up the data\n",
        "X = data.iloc[:,1:7].values\n",
        "y = data.iloc[:,8].values"
      ],
      "execution_count": 0,
      "outputs": []
    },
    {
      "cell_type": "code",
      "metadata": {
        "id": "tW4WSqPZW5R8",
        "colab_type": "code",
        "colab": {}
      },
      "source": [
        "X_train, X_test, y_train, y_test = train_test_split(X, y, test_size=0.2, random_state = 50)"
      ],
      "execution_count": 0,
      "outputs": []
    },
    {
      "cell_type": "code",
      "metadata": {
        "id": "cJtUKhF4boqK",
        "colab_type": "code",
        "colab": {}
      },
      "source": [
        "# Preprocessing\n",
        "scaler = StandardScaler()\n",
        "# Fit only to the training data\n",
        "scaler.fit(X_train)\n",
        "StandardScaler(copy=True, with_mean=True, with_std=True)\n",
        "# Now apply the transformations to the data:\n",
        "X_train = scaler.transform(X_train)\n",
        "X_test = scaler.transform(X_test)"
      ],
      "execution_count": 0,
      "outputs": []
    },
    {
      "cell_type": "code",
      "metadata": {
        "id": "3YV5eTD3oLc6",
        "colab_type": "code",
        "colab": {}
      },
      "source": [
        "# Number of trees in random forest\n",
        "n_estimators = [int(x) for x in np.linspace(start = 200, stop = 2000, num = 10)]\n",
        "# Number of features to consider at every split\n",
        "max_features = ['auto', 'sqrt']\n",
        "# Maximum number of levels in tree\n",
        "max_depth = [int(x) for x in np.linspace(1, 100, num = 10)]\n",
        "max_depth.append(None)\n",
        "# Minimum number of samples required to split a node\n",
        "min_samples_split = [2, 5, 10]\n",
        "# Minimum number of samples required at each leaf node\n",
        "min_samples_leaf = [1, 2, 4]\n",
        "# Method of selecting samples for training each tree\n",
        "bootstrap = [True, False]\n",
        "# Create the random grid\n",
        "random_grid = {'n_estimators': n_estimators,\n",
        "               'max_features': max_features,\n",
        "               'max_depth': max_depth,\n",
        "               'min_samples_split': min_samples_split,\n",
        "               'min_samples_leaf': min_samples_leaf,\n",
        "               'bootstrap': bootstrap}"
      ],
      "execution_count": 0,
      "outputs": []
    },
    {
      "cell_type": "code",
      "metadata": {
        "id": "bu34chapoc_8",
        "colab_type": "code",
        "colab": {
          "base_uri": "https://localhost:8080/",
          "height": 55
        },
        "outputId": "797092f2-8f87-4f87-a055-784d38b98226"
      },
      "source": [
        "print(random_grid)"
      ],
      "execution_count": 9,
      "outputs": [
        {
          "output_type": "stream",
          "text": [
            "{'n_estimators': [200, 400, 600, 800, 1000, 1200, 1400, 1600, 1800, 2000], 'max_features': ['auto', 'sqrt'], 'max_depth': [1, 12, 23, 34, 45, 56, 67, 78, 89, 100, None], 'min_samples_split': [2, 5, 10], 'min_samples_leaf': [1, 2, 4], 'bootstrap': [True, False]}\n"
          ],
          "name": "stdout"
        }
      ]
    },
    {
      "cell_type": "code",
      "metadata": {
        "id": "obaqlsiRlkfi",
        "colab_type": "code",
        "colab": {
          "base_uri": "https://localhost:8080/",
          "height": 35
        },
        "outputId": "87090abd-2864-4dea-ae0e-728740e34093"
      },
      "source": [
        "# Check for the best parameters of regressor\n",
        "rf = RandomForestRegressor()\n",
        "rf_random = RandomizedSearchCV(estimator=rf, param_distributions = random_grid, cv=10)\n",
        "rf_random.fit(X_train,y_train)\n",
        "print(rf_random.best_params_)"
      ],
      "execution_count": 27,
      "outputs": [
        {
          "output_type": "stream",
          "text": [
            "{'n_estimators': 1400, 'min_samples_split': 10, 'min_samples_leaf': 1, 'max_features': 'sqrt', 'max_depth': None, 'bootstrap': True}\n"
          ],
          "name": "stdout"
        }
      ]
    },
    {
      "cell_type": "code",
      "metadata": {
        "id": "KKXwG40acf0Y",
        "colab_type": "code",
        "colab": {
          "base_uri": "https://localhost:8080/",
          "height": 143
        },
        "outputId": "2aa4ae1c-7b27-4fad-953c-002f77cfef26"
      },
      "source": [
        "# Train the model\n",
        "ranforreg = RandomForestRegressor(n_estimators=1400, criterion = \"mae\", min_samples_leaf = 1, max_features = \"sqrt\", random_state=50, bootstrap=True, min_samples_split=10) \n",
        "ranforreg.fit(X_train, y_train)"
      ],
      "execution_count": 10,
      "outputs": [
        {
          "output_type": "execute_result",
          "data": {
            "text/plain": [
              "RandomForestRegressor(bootstrap=True, ccp_alpha=0.0, criterion='mae',\n",
              "                      max_depth=None, max_features='sqrt', max_leaf_nodes=None,\n",
              "                      max_samples=None, min_impurity_decrease=0.0,\n",
              "                      min_impurity_split=None, min_samples_leaf=1,\n",
              "                      min_samples_split=10, min_weight_fraction_leaf=0.0,\n",
              "                      n_estimators=1400, n_jobs=None, oob_score=False,\n",
              "                      random_state=50, verbose=0, warm_start=False)"
            ]
          },
          "metadata": {
            "tags": []
          },
          "execution_count": 10
        }
      ]
    },
    {
      "cell_type": "code",
      "metadata": {
        "id": "O7MMWwcFdO46",
        "colab_type": "code",
        "colab": {
          "base_uri": "https://localhost:8080/",
          "height": 35
        },
        "outputId": "809b1c79-fcfb-4a7d-9aae-7515317600ae"
      },
      "source": [
        "# Test the model and see how it fits the regression\n",
        "predictions = ranforreg.predict(X_test)\n",
        "print(r2_score(y_test, predictions))"
      ],
      "execution_count": 11,
      "outputs": [
        {
          "output_type": "stream",
          "text": [
            "0.8354641026930251\n"
          ],
          "name": "stdout"
        }
      ]
    },
    {
      "cell_type": "code",
      "metadata": {
        "id": "h4nLSzPRqk5x",
        "colab_type": "code",
        "colab": {}
      },
      "source": [
        "def evaluate(model, X, y):\n",
        "    predictions = model.predict(X)\n",
        "    error = abs(predictions - y)\n",
        "    meanerror = 100 * np.mean(error / y)\n",
        "    accuracy = 100 - meanerror\n",
        "    print('Model Performance')\n",
        "    print('Average Error: {:0.4f} degrees.'.format(np.mean(error)))\n",
        "    print('Accuracy = {:0.2f}%.'.format(accuracy))\n",
        "    \n",
        "    return accuracy"
      ],
      "execution_count": 0,
      "outputs": []
    },
    {
      "cell_type": "code",
      "metadata": {
        "id": "S2OVa0PTqni0",
        "colab_type": "code",
        "colab": {
          "base_uri": "https://localhost:8080/",
          "height": 89
        },
        "outputId": "0df3b3bf-b991-4582-a77d-cbecd787173e"
      },
      "source": [
        "evaluate(ranforreg,X_test,y_test)"
      ],
      "execution_count": 13,
      "outputs": [
        {
          "output_type": "stream",
          "text": [
            "Model Performance\n",
            "Average Error: 0.0413 degrees.\n",
            "Accuracy = 93.53%.\n"
          ],
          "name": "stdout"
        },
        {
          "output_type": "execute_result",
          "data": {
            "text/plain": [
              "93.53062711937129"
            ]
          },
          "metadata": {
            "tags": []
          },
          "execution_count": 13
        }
      ]
    },
    {
      "cell_type": "markdown",
      "metadata": {
        "id": "t84FftEksAfq",
        "colab_type": "text"
      },
      "source": [
        "# Second Linear regression model"
      ]
    },
    {
      "cell_type": "code",
      "metadata": {
        "id": "2ogERyU3sIBT",
        "colab_type": "code",
        "colab": {}
      },
      "source": [
        "from sklearn.linear_model import LinearRegression"
      ],
      "execution_count": 0,
      "outputs": []
    },
    {
      "cell_type": "code",
      "metadata": {
        "id": "zSsqAiIksndM",
        "colab_type": "code",
        "colab": {
          "base_uri": "https://localhost:8080/",
          "height": 35
        },
        "outputId": "d109b62f-fe87-4964-dc48-b95e64b85d70"
      },
      "source": [
        "linear = LinearRegression()\n",
        "linear.fit(X_train, y_train)\n",
        "prediction2 = linear.predict(X_test)\n",
        "print(r2_score(y_test, prediction2))"
      ],
      "execution_count": 15,
      "outputs": [
        {
          "output_type": "stream",
          "text": [
            "0.8348234813669918\n"
          ],
          "name": "stdout"
        }
      ]
    },
    {
      "cell_type": "code",
      "metadata": {
        "id": "OerfWcPytimp",
        "colab_type": "code",
        "colab": {
          "base_uri": "https://localhost:8080/",
          "height": 89
        },
        "outputId": "e5f9f05b-1536-4a4f-e32a-243f4b42bb6b"
      },
      "source": [
        "evaluate(linear,X_test,y_test)"
      ],
      "execution_count": 16,
      "outputs": [
        {
          "output_type": "stream",
          "text": [
            "Model Performance\n",
            "Average Error: 0.0416 degrees.\n",
            "Accuracy = 93.55%.\n"
          ],
          "name": "stdout"
        },
        {
          "output_type": "execute_result",
          "data": {
            "text/plain": [
              "93.55157938480586"
            ]
          },
          "metadata": {
            "tags": []
          },
          "execution_count": 16
        }
      ]
    },
    {
      "cell_type": "markdown",
      "metadata": {
        "id": "Qqa9qlO1tr2X",
        "colab_type": "text"
      },
      "source": [
        "# 3. Third Decision tree"
      ]
    },
    {
      "cell_type": "code",
      "metadata": {
        "id": "eByFcS-Et0iZ",
        "colab_type": "code",
        "colab": {}
      },
      "source": [
        "from sklearn.tree import DecisionTreeRegressor"
      ],
      "execution_count": 0,
      "outputs": []
    },
    {
      "cell_type": "code",
      "metadata": {
        "id": "GniS7_s4t7Qe",
        "colab_type": "code",
        "colab": {}
      },
      "source": [
        "dtree = DecisionTreeRegressor()"
      ],
      "execution_count": 0,
      "outputs": []
    },
    {
      "cell_type": "code",
      "metadata": {
        "id": "3M3Nfl2ExI6K",
        "colab_type": "code",
        "colab": {}
      },
      "source": [
        "# criterion\n",
        "criterion = ['mse', 'friedman_mse', 'mae']\n",
        "# splitter\n",
        "splitter = [\"best\", \"random\"]\n",
        "# Number of features to consider at every split\n",
        "max_features = ['auto', 'sqrt']\n",
        "# Maximum number of levels in tree\n",
        "max_depth = [int(x) for x in np.linspace(1, 100, num = 10)]\n",
        "max_depth.append(None)\n",
        "# Minimum number of samples required to split a node\n",
        "min_samples_split = [2, 5, 10, 20, 30, 40]\n",
        "# Minimum number of samples required at each leaf node\n",
        "min_samples_leaf = [1, 2, 4, 6, 8, 10]\n",
        "# min_weight_fraction_leaf\n",
        "min_weight_fraction_leaf = [0, 0.1, 0.2, 0.3, 0.4]\n",
        "# Create the random grid\n",
        "random_grid = {'criterion': criterion,\n",
        "               'splitter': splitter,\n",
        "               'max_features': max_features,\n",
        "               'max_depth': max_depth,\n",
        "               'min_samples_split': min_samples_split,\n",
        "               'min_samples_leaf': min_samples_leaf,\n",
        "               \"min_weight_fraction_leaf\": min_weight_fraction_leaf}"
      ],
      "execution_count": 0,
      "outputs": []
    },
    {
      "cell_type": "code",
      "metadata": {
        "id": "RJFs_Zxty8df",
        "colab_type": "code",
        "colab": {
          "base_uri": "https://localhost:8080/",
          "height": 55
        },
        "outputId": "97c12e2a-39c3-4812-902a-18ba0e47b994"
      },
      "source": [
        "# find the best parameters\n",
        "print(random_grid)"
      ],
      "execution_count": 51,
      "outputs": [
        {
          "output_type": "stream",
          "text": [
            "{'criterion': ['mse', 'friedman_mse', 'mae'], 'splitter': ['best', 'random'], 'max_features': ['auto', 'sqrt'], 'max_depth': [1, 12, 23, 34, 45, 56, 67, 78, 89, 100, None], 'min_samples_split': [2, 5, 10, 20, 30, 40], 'min_samples_leaf': [1, 2, 4, 6, 8, 10], 'min_weight_fraction_leaf': [0, 0.1, 0.2, 0.3, 0.4]}\n"
          ],
          "name": "stdout"
        }
      ]
    },
    {
      "cell_type": "code",
      "metadata": {
        "id": "lWonMDqnys45",
        "colab_type": "code",
        "colab": {
          "base_uri": "https://localhost:8080/",
          "height": 35
        },
        "outputId": "3b13afb6-0de7-4d5f-b1ca-a0c52b8ec049"
      },
      "source": [
        "dtree_random = RandomizedSearchCV(estimator=dtree, param_distributions = random_grid, cv=10)\n",
        "dtree_random.fit(X_train,y_train)\n",
        "print(dtree_random.best_params_)"
      ],
      "execution_count": 60,
      "outputs": [
        {
          "output_type": "stream",
          "text": [
            "{'splitter': 'best', 'min_weight_fraction_leaf': 0, 'min_samples_split': 10, 'min_samples_leaf': 8, 'max_features': 'auto', 'max_depth': 23, 'criterion': 'mae'}\n"
          ],
          "name": "stdout"
        }
      ]
    },
    {
      "cell_type": "code",
      "metadata": {
        "id": "5IrO8mM0zTMw",
        "colab_type": "code",
        "colab": {
          "base_uri": "https://localhost:8080/",
          "height": 35
        },
        "outputId": "be118314-5d34-413d-f575-1f5c561f6e4f"
      },
      "source": [
        "dt = DecisionTreeRegressor(criterion=\"mae\", splitter=\"best\", min_samples_split=10, min_samples_leaf=8, max_depth=23, min_weight_fraction_leaf=0, max_features=\"auto\")\n",
        "dt.fit(X_train, y_train)\n",
        "prediction3 = dt.predict(X_test)\n",
        "print(r2_score(y_test, prediction3))"
      ],
      "execution_count": 72,
      "outputs": [
        {
          "output_type": "stream",
          "text": [
            "0.7848506888497766\n"
          ],
          "name": "stdout"
        }
      ]
    },
    {
      "cell_type": "code",
      "metadata": {
        "id": "jdhPf0JQ1VdP",
        "colab_type": "code",
        "colab": {
          "base_uri": "https://localhost:8080/",
          "height": 89
        },
        "outputId": "cf34ae37-3667-4aae-cf78-8d809cfb0ea0"
      },
      "source": [
        "evaluate(dt,X_test,y_test)"
      ],
      "execution_count": 62,
      "outputs": [
        {
          "output_type": "stream",
          "text": [
            "Model Performance\n",
            "Average Error: 0.0486 degrees.\n",
            "Accuracy = 92.37%.\n"
          ],
          "name": "stdout"
        },
        {
          "output_type": "execute_result",
          "data": {
            "text/plain": [
              "92.37217241615241"
            ]
          },
          "metadata": {
            "tags": []
          },
          "execution_count": 62
        }
      ]
    },
    {
      "cell_type": "markdown",
      "metadata": {
        "id": "vA6nqvRzYnYt",
        "colab_type": "text"
      },
      "source": [
        "# 4. KNN Regressor"
      ]
    },
    {
      "cell_type": "code",
      "metadata": {
        "id": "DU028gspY50u",
        "colab_type": "code",
        "colab": {}
      },
      "source": [
        "from sklearn.neighbors import KNeighborsRegressor"
      ],
      "execution_count": 0,
      "outputs": []
    },
    {
      "cell_type": "code",
      "metadata": {
        "id": "B-sJM_DOZKhp",
        "colab_type": "code",
        "colab": {
          "base_uri": "https://localhost:8080/",
          "height": 35
        },
        "outputId": "3437dc3f-9df4-45f6-c4e4-98e901478fd6"
      },
      "source": [
        "KNN = KNeighborsRegressor(n_neighbors = 8)\n",
        "KNN.fit(X_train, y_train)\n",
        "prediction4 = KNN.predict(X_test)\n",
        "print(r2_score(y_test, prediction4))"
      ],
      "execution_count": 34,
      "outputs": [
        {
          "output_type": "stream",
          "text": [
            "0.8342796309656427\n"
          ],
          "name": "stdout"
        }
      ]
    },
    {
      "cell_type": "code",
      "metadata": {
        "id": "EM0DRw6gaGLW",
        "colab_type": "code",
        "colab": {
          "base_uri": "https://localhost:8080/",
          "height": 89
        },
        "outputId": "5d035e18-9377-4cfd-eb55-a482802a5976"
      },
      "source": [
        "evaluate(KNN,X_test,y_test)"
      ],
      "execution_count": 35,
      "outputs": [
        {
          "output_type": "stream",
          "text": [
            "Model Performance\n",
            "Average Error: 0.0404 degrees.\n",
            "Accuracy = 93.68%.\n"
          ],
          "name": "stdout"
        },
        {
          "output_type": "execute_result",
          "data": {
            "text/plain": [
              "93.67689932611805"
            ]
          },
          "metadata": {
            "tags": []
          },
          "execution_count": 35
        }
      ]
    },
    {
      "cell_type": "markdown",
      "metadata": {
        "id": "_kWrAoJfat5P",
        "colab_type": "text"
      },
      "source": [
        "# 5. 5-Fold cross valiadation"
      ]
    },
    {
      "cell_type": "code",
      "metadata": {
        "id": "NJr1As5Ra26N",
        "colab_type": "code",
        "colab": {
          "base_uri": "https://localhost:8080/",
          "height": 53
        },
        "outputId": "b2099f36-4ad0-48ec-d735-2d464df610a7"
      },
      "source": [
        "results = cross_validate(ranforreg, X_train, y_train, cv=5)\n",
        "print(results['test_score'])\n",
        "print(\"The performance of random forest is \", sum(results['test_score'])/5)"
      ],
      "execution_count": 40,
      "outputs": [
        {
          "output_type": "stream",
          "text": [
            "[0.7290652  0.77147667 0.80632913 0.78278231 0.8465958 ]\n",
            "The performance of random forest is  0.7872498229559046\n"
          ],
          "name": "stdout"
        }
      ]
    },
    {
      "cell_type": "code",
      "metadata": {
        "id": "TfmSiFycbA8T",
        "colab_type": "code",
        "colab": {
          "base_uri": "https://localhost:8080/",
          "height": 53
        },
        "outputId": "c461bdfa-9b3e-4afb-8c76-c8812181bfd6"
      },
      "source": [
        "results = cross_validate(linear, X_train, y_train, cv=5)\n",
        "print(results['test_score'])\n",
        "print(\"The performance of linear is \", sum(results['test_score'])/5)"
      ],
      "execution_count": 42,
      "outputs": [
        {
          "output_type": "stream",
          "text": [
            "[0.73235985 0.77791217 0.82394596 0.80360678 0.84581212]\n",
            "The performance of linear is  0.7967273744699732\n"
          ],
          "name": "stdout"
        }
      ]
    },
    {
      "cell_type": "code",
      "metadata": {
        "id": "1AKpKekkcFUH",
        "colab_type": "code",
        "colab": {
          "base_uri": "https://localhost:8080/",
          "height": 53
        },
        "outputId": "878ef7d2-2d87-4cf6-8a71-a935852d345a"
      },
      "source": [
        "results = cross_validate(dt, X_train, y_train, cv=5)\n",
        "print(results['test_score'])\n",
        "print(\"The performance of decision tree is \", sum(results['test_score'])/5)"
      ],
      "execution_count": 63,
      "outputs": [
        {
          "output_type": "stream",
          "text": [
            "[0.66277333 0.72169454 0.72540551 0.69102248 0.77700856]\n",
            "The performance of decision tree is  0.7155808851606589\n"
          ],
          "name": "stdout"
        }
      ]
    },
    {
      "cell_type": "code",
      "metadata": {
        "id": "eqofv6ORceEi",
        "colab_type": "code",
        "colab": {
          "base_uri": "https://localhost:8080/",
          "height": 53
        },
        "outputId": "0b101eb1-c812-4544-9e42-bff0c8aa1b01"
      },
      "source": [
        "results = cross_validate(KNN, X_train, y_train, cv=5)\n",
        "print(results['test_score'])\n",
        "print(\"The performance of KNN is \", sum(results['test_score'])/5)"
      ],
      "execution_count": 46,
      "outputs": [
        {
          "output_type": "stream",
          "text": [
            "[0.71481011 0.75665702 0.7903297  0.77894053 0.76744171]\n",
            "The performance of KNN is  0.7616358154048867\n"
          ],
          "name": "stdout"
        }
      ]
    },
    {
      "cell_type": "markdown",
      "metadata": {
        "id": "j0c9-AGUckDt",
        "colab_type": "text"
      },
      "source": [
        "In the final evaluation, we are using 5-fold cross valiadation to check the performance of each model. By the result, we could see that performance of linear regressor model has the best accuracy and fit score than others. \n",
        "\n",
        "In both random forest model and decision tree model, I used random search to find the possible best parameters and change it accordingly to improve the performance of the model.\n",
        "\n",
        "In addition, except for using R2-score to test the fitting of the models predications and fitting. I also use a evaluation to test the accuracy of predications and targets."
      ]
    }
  ]
}